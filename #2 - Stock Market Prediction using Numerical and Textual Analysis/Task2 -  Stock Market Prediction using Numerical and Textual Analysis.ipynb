{
 "cells": [
  {
   "cell_type": "markdown",
   "metadata": {},
   "source": [
    "<center>\n",
    "    <img src=\"https://internship.thesparksfoundation.info/assests/img/logo.png\" width=\"300\" alt=\"thesparksfoundation logo\"  />\n",
    "</center>\n",
    "\n",
    "# The Sparks Foundation\n",
    "\n",
    "## Task 2: Stock Market Prediction using Numerical and Textual Analysis\n",
    "\n",
    "### By : Ashutosh Vyas"
   ]
  },
  {
   "cell_type": "markdown",
   "metadata": {},
   "source": [
    "<b>Problem Statement:</b> Create a hybrid model for stock price/performance prediction using numerical analysis of historical stock prices, and sentimental analysis of news headlines.\n",
    "\n",
    "\n",
    "<b>Stock to analyze and predict:</b> SENSEX (S&P BSE SENSEX)"
   ]
  },
  {
   "cell_type": "markdown",
   "metadata": {},
   "source": [
    "## Importing Libraries\n",
    "Lets import the following libraries that are required for the task:\n",
    "\n",
    "<ul>\n",
    "    <li> <b>warnings</b> </li>\n",
    "    <li> <b>math</b> </li>\n",
    "    <li> <b>pandas</b> </li>\n",
    "    <li> <b>numpy</b> </li>\n",
    "</ul>\n"
   ]
  },
  {
   "cell_type": "code",
   "execution_count": 1,
   "metadata": {},
   "outputs": [],
   "source": [
    "import warnings\n",
    "warnings.filterwarnings('ignore')\n",
    "\n",
    "import math\n",
    "import pandas as pd\n",
    "import numpy as np"
   ]
  },
  {
   "cell_type": "markdown",
   "metadata": {},
   "source": [
    "<div id=\"about_dataset\">\n",
    "    <h2>About the dataset</h2>\n",
    "    The news dataset <b>Times of India News Headlines</b> is a persistent historical archive of noteable events in the Indian subcontinent from start-2001 to end-2020, recorded in realtime by the journalists of India. It contains approximately 3.4 million events published by Times of India.\n",
    "    <br>\n",
    "    <br>\n",
    "    Times Group as a news agency, reaches out a very wide audience across Asia and drawfs every other agency in the quantity of english articles published per day. The data can be accessed at <a href=\"https://dataverse.harvard.edu/dataset.xhtml?persistentId=doi:10.7910/DVN/DPQMQH\">Times of India News Headlines</a>.\n",
    "    <br>\n",
    "    <br>\n",
    "    Due to the heavy daily volume over multiple years, this data offers a deep insight into Indian society, its priorities, events, issues and talking points and how they have unfolded over time. It is possible to chop this dataset into a smaller piece for a more focused analysis, based on one or more facets.\n",
    "</div>"
   ]
  },
  {
   "cell_type": "code",
   "execution_count": 2,
   "metadata": {},
   "outputs": [
    {
     "data": {
      "text/html": [
       "<div>\n",
       "<style scoped>\n",
       "    .dataframe tbody tr th:only-of-type {\n",
       "        vertical-align: middle;\n",
       "    }\n",
       "\n",
       "    .dataframe tbody tr th {\n",
       "        vertical-align: top;\n",
       "    }\n",
       "\n",
       "    .dataframe thead th {\n",
       "        text-align: right;\n",
       "    }\n",
       "</style>\n",
       "<table border=\"1\" class=\"dataframe\">\n",
       "  <thead>\n",
       "    <tr style=\"text-align: right;\">\n",
       "      <th></th>\n",
       "      <th>publish_date</th>\n",
       "      <th>headline_category</th>\n",
       "      <th>headline_text</th>\n",
       "    </tr>\n",
       "  </thead>\n",
       "  <tbody>\n",
       "    <tr>\n",
       "      <th>0</th>\n",
       "      <td>20010102</td>\n",
       "      <td>unknown</td>\n",
       "      <td>Status quo will not be disturbed at Ayodhya; s...</td>\n",
       "    </tr>\n",
       "    <tr>\n",
       "      <th>1</th>\n",
       "      <td>20010102</td>\n",
       "      <td>unknown</td>\n",
       "      <td>Fissures in Hurriyat over Pak visit</td>\n",
       "    </tr>\n",
       "    <tr>\n",
       "      <th>2</th>\n",
       "      <td>20010102</td>\n",
       "      <td>unknown</td>\n",
       "      <td>America's unwanted heading for India?</td>\n",
       "    </tr>\n",
       "    <tr>\n",
       "      <th>3</th>\n",
       "      <td>20010102</td>\n",
       "      <td>unknown</td>\n",
       "      <td>For bigwigs; it is destination Goa</td>\n",
       "    </tr>\n",
       "    <tr>\n",
       "      <th>4</th>\n",
       "      <td>20010102</td>\n",
       "      <td>unknown</td>\n",
       "      <td>Extra buses to clear tourist traffic</td>\n",
       "    </tr>\n",
       "    <tr>\n",
       "      <th>...</th>\n",
       "      <td>...</td>\n",
       "      <td>...</td>\n",
       "      <td>...</td>\n",
       "    </tr>\n",
       "    <tr>\n",
       "      <th>3424062</th>\n",
       "      <td>20201231</td>\n",
       "      <td>city.jodhpur</td>\n",
       "      <td>Covid-19: Despite dip in cases; Rajasthan amon...</td>\n",
       "    </tr>\n",
       "    <tr>\n",
       "      <th>3424063</th>\n",
       "      <td>20201231</td>\n",
       "      <td>city.udaipur</td>\n",
       "      <td>Covid-19: Despite dip in cases; Rajasthan amon...</td>\n",
       "    </tr>\n",
       "    <tr>\n",
       "      <th>3424064</th>\n",
       "      <td>20201231</td>\n",
       "      <td>city.ajmer</td>\n",
       "      <td>Covid-19: Despite dip in cases; Rajasthan amon...</td>\n",
       "    </tr>\n",
       "    <tr>\n",
       "      <th>3424065</th>\n",
       "      <td>20201231</td>\n",
       "      <td>removed</td>\n",
       "      <td>Govt extends deadline for use of FASTag till F...</td>\n",
       "    </tr>\n",
       "    <tr>\n",
       "      <th>3424066</th>\n",
       "      <td>20201231</td>\n",
       "      <td>entertainment.bengali.movies.news</td>\n",
       "      <td>Celebs plan to party safely and responsibly on...</td>\n",
       "    </tr>\n",
       "  </tbody>\n",
       "</table>\n",
       "<p>3424067 rows × 3 columns</p>\n",
       "</div>"
      ],
      "text/plain": [
       "         publish_date                  headline_category  \\\n",
       "0            20010102                            unknown   \n",
       "1            20010102                            unknown   \n",
       "2            20010102                            unknown   \n",
       "3            20010102                            unknown   \n",
       "4            20010102                            unknown   \n",
       "...               ...                                ...   \n",
       "3424062      20201231                       city.jodhpur   \n",
       "3424063      20201231                       city.udaipur   \n",
       "3424064      20201231                         city.ajmer   \n",
       "3424065      20201231                            removed   \n",
       "3424066      20201231  entertainment.bengali.movies.news   \n",
       "\n",
       "                                             headline_text  \n",
       "0        Status quo will not be disturbed at Ayodhya; s...  \n",
       "1                      Fissures in Hurriyat over Pak visit  \n",
       "2                    America's unwanted heading for India?  \n",
       "3                       For bigwigs; it is destination Goa  \n",
       "4                     Extra buses to clear tourist traffic  \n",
       "...                                                    ...  \n",
       "3424062  Covid-19: Despite dip in cases; Rajasthan amon...  \n",
       "3424063  Covid-19: Despite dip in cases; Rajasthan amon...  \n",
       "3424064  Covid-19: Despite dip in cases; Rajasthan amon...  \n",
       "3424065  Govt extends deadline for use of FASTag till F...  \n",
       "3424066  Celebs plan to party safely and responsibly on...  \n",
       "\n",
       "[3424067 rows x 3 columns]"
      ]
     },
     "execution_count": 2,
     "metadata": {},
     "output_type": "execute_result"
    }
   ],
   "source": [
    "news_headlines = pd.read_csv(\"india-news-headlines.csv\")\n",
    "news_headlines"
   ]
  },
  {
   "cell_type": "markdown",
   "metadata": {},
   "source": [
    "<div id=\"about_dataset\">\n",
    "    Since our Textual Analysis dataset containing news from Times of India News Headlines is from 2nd January 2001 to 31st December 2020. So we will only work with stock price from 2nd January 2001 to 31st December 2020.\n",
    "    <br>\n",
    "    <br>\n",
    "    We will be using <b>yfinance</b> to extract the stock data of <b>BSE SENSEX</b> from <b>02/01/2001</b> to <b>31/12/2020</b>. The <b>BSE SENSEX</b> is a free-float market-weighted stock market index of 30 well-established and financially sound companies listed on the Bombay Stock Exchange.\n",
    "</div>"
   ]
  },
  {
   "cell_type": "code",
   "execution_count": 3,
   "metadata": {},
   "outputs": [
    {
     "name": "stdout",
     "output_type": "stream",
     "text": [
      "[*********************100%***********************]  1 of 1 completed\n"
     ]
    }
   ],
   "source": [
    "import yfinance as yf\n",
    "bse_data = yf.download('^BSESN', start='2001-01-02', end='2020-12-31')"
   ]
  },
  {
   "cell_type": "code",
   "execution_count": 4,
   "metadata": {},
   "outputs": [
    {
     "data": {
      "text/html": [
       "<div>\n",
       "<style scoped>\n",
       "    .dataframe tbody tr th:only-of-type {\n",
       "        vertical-align: middle;\n",
       "    }\n",
       "\n",
       "    .dataframe tbody tr th {\n",
       "        vertical-align: top;\n",
       "    }\n",
       "\n",
       "    .dataframe thead th {\n",
       "        text-align: right;\n",
       "    }\n",
       "</style>\n",
       "<table border=\"1\" class=\"dataframe\">\n",
       "  <thead>\n",
       "    <tr style=\"text-align: right;\">\n",
       "      <th></th>\n",
       "      <th>Open</th>\n",
       "      <th>High</th>\n",
       "      <th>Low</th>\n",
       "      <th>Close</th>\n",
       "      <th>Adj Close</th>\n",
       "      <th>Volume</th>\n",
       "    </tr>\n",
       "    <tr>\n",
       "      <th>Date</th>\n",
       "      <th></th>\n",
       "      <th></th>\n",
       "      <th></th>\n",
       "      <th></th>\n",
       "      <th></th>\n",
       "      <th></th>\n",
       "    </tr>\n",
       "  </thead>\n",
       "  <tbody>\n",
       "    <tr>\n",
       "      <th>2001-01-02</th>\n",
       "      <td>3953.219971</td>\n",
       "      <td>4028.570068</td>\n",
       "      <td>3929.370117</td>\n",
       "      <td>4018.879883</td>\n",
       "      <td>4018.879883</td>\n",
       "      <td>0</td>\n",
       "    </tr>\n",
       "    <tr>\n",
       "      <th>2001-01-03</th>\n",
       "      <td>3977.580078</td>\n",
       "      <td>4067.659912</td>\n",
       "      <td>3977.580078</td>\n",
       "      <td>4060.020020</td>\n",
       "      <td>4060.020020</td>\n",
       "      <td>0</td>\n",
       "    </tr>\n",
       "    <tr>\n",
       "      <th>2001-01-04</th>\n",
       "      <td>4180.970215</td>\n",
       "      <td>4180.970215</td>\n",
       "      <td>4109.549805</td>\n",
       "      <td>4115.370117</td>\n",
       "      <td>4115.370117</td>\n",
       "      <td>0</td>\n",
       "    </tr>\n",
       "    <tr>\n",
       "      <th>2001-01-05</th>\n",
       "      <td>4116.339844</td>\n",
       "      <td>4195.009766</td>\n",
       "      <td>4115.350098</td>\n",
       "      <td>4183.729980</td>\n",
       "      <td>4183.729980</td>\n",
       "      <td>0</td>\n",
       "    </tr>\n",
       "    <tr>\n",
       "      <th>2001-01-08</th>\n",
       "      <td>4164.759766</td>\n",
       "      <td>4206.720215</td>\n",
       "      <td>4101.529785</td>\n",
       "      <td>4120.430176</td>\n",
       "      <td>4120.430176</td>\n",
       "      <td>0</td>\n",
       "    </tr>\n",
       "  </tbody>\n",
       "</table>\n",
       "</div>"
      ],
      "text/plain": [
       "                   Open         High          Low        Close    Adj Close  \\\n",
       "Date                                                                          \n",
       "2001-01-02  3953.219971  4028.570068  3929.370117  4018.879883  4018.879883   \n",
       "2001-01-03  3977.580078  4067.659912  3977.580078  4060.020020  4060.020020   \n",
       "2001-01-04  4180.970215  4180.970215  4109.549805  4115.370117  4115.370117   \n",
       "2001-01-05  4116.339844  4195.009766  4115.350098  4183.729980  4183.729980   \n",
       "2001-01-08  4164.759766  4206.720215  4101.529785  4120.430176  4120.430176   \n",
       "\n",
       "            Volume  \n",
       "Date                \n",
       "2001-01-02       0  \n",
       "2001-01-03       0  \n",
       "2001-01-04       0  \n",
       "2001-01-05       0  \n",
       "2001-01-08       0  "
      ]
     },
     "execution_count": 4,
     "metadata": {},
     "output_type": "execute_result"
    }
   ],
   "source": [
    "bse_data.head()"
   ]
  },
  {
   "cell_type": "markdown",
   "metadata": {},
   "source": [
    "## Pre-processing\n"
   ]
  },
  {
   "cell_type": "markdown",
   "metadata": {},
   "source": [
    "Using <b>reset_index</b> to reset the index of the DataFrame, and use the default one instead."
   ]
  },
  {
   "cell_type": "code",
   "execution_count": 5,
   "metadata": {},
   "outputs": [
    {
     "data": {
      "text/html": [
       "<div>\n",
       "<style scoped>\n",
       "    .dataframe tbody tr th:only-of-type {\n",
       "        vertical-align: middle;\n",
       "    }\n",
       "\n",
       "    .dataframe tbody tr th {\n",
       "        vertical-align: top;\n",
       "    }\n",
       "\n",
       "    .dataframe thead th {\n",
       "        text-align: right;\n",
       "    }\n",
       "</style>\n",
       "<table border=\"1\" class=\"dataframe\">\n",
       "  <thead>\n",
       "    <tr style=\"text-align: right;\">\n",
       "      <th></th>\n",
       "      <th>Date</th>\n",
       "      <th>Open</th>\n",
       "      <th>High</th>\n",
       "      <th>Low</th>\n",
       "      <th>Close</th>\n",
       "      <th>Adj Close</th>\n",
       "      <th>Volume</th>\n",
       "    </tr>\n",
       "  </thead>\n",
       "  <tbody>\n",
       "    <tr>\n",
       "      <th>0</th>\n",
       "      <td>2001-01-02</td>\n",
       "      <td>3953.219971</td>\n",
       "      <td>4028.570068</td>\n",
       "      <td>3929.370117</td>\n",
       "      <td>4018.879883</td>\n",
       "      <td>4018.879883</td>\n",
       "      <td>0</td>\n",
       "    </tr>\n",
       "    <tr>\n",
       "      <th>1</th>\n",
       "      <td>2001-01-03</td>\n",
       "      <td>3977.580078</td>\n",
       "      <td>4067.659912</td>\n",
       "      <td>3977.580078</td>\n",
       "      <td>4060.020020</td>\n",
       "      <td>4060.020020</td>\n",
       "      <td>0</td>\n",
       "    </tr>\n",
       "    <tr>\n",
       "      <th>2</th>\n",
       "      <td>2001-01-04</td>\n",
       "      <td>4180.970215</td>\n",
       "      <td>4180.970215</td>\n",
       "      <td>4109.549805</td>\n",
       "      <td>4115.370117</td>\n",
       "      <td>4115.370117</td>\n",
       "      <td>0</td>\n",
       "    </tr>\n",
       "    <tr>\n",
       "      <th>3</th>\n",
       "      <td>2001-01-05</td>\n",
       "      <td>4116.339844</td>\n",
       "      <td>4195.009766</td>\n",
       "      <td>4115.350098</td>\n",
       "      <td>4183.729980</td>\n",
       "      <td>4183.729980</td>\n",
       "      <td>0</td>\n",
       "    </tr>\n",
       "    <tr>\n",
       "      <th>4</th>\n",
       "      <td>2001-01-08</td>\n",
       "      <td>4164.759766</td>\n",
       "      <td>4206.720215</td>\n",
       "      <td>4101.529785</td>\n",
       "      <td>4120.430176</td>\n",
       "      <td>4120.430176</td>\n",
       "      <td>0</td>\n",
       "    </tr>\n",
       "  </tbody>\n",
       "</table>\n",
       "</div>"
      ],
      "text/plain": [
       "        Date         Open         High          Low        Close    Adj Close  \\\n",
       "0 2001-01-02  3953.219971  4028.570068  3929.370117  4018.879883  4018.879883   \n",
       "1 2001-01-03  3977.580078  4067.659912  3977.580078  4060.020020  4060.020020   \n",
       "2 2001-01-04  4180.970215  4180.970215  4109.549805  4115.370117  4115.370117   \n",
       "3 2001-01-05  4116.339844  4195.009766  4115.350098  4183.729980  4183.729980   \n",
       "4 2001-01-08  4164.759766  4206.720215  4101.529785  4120.430176  4120.430176   \n",
       "\n",
       "   Volume  \n",
       "0       0  \n",
       "1       0  \n",
       "2       0  \n",
       "3       0  \n",
       "4       0  "
      ]
     },
     "execution_count": 5,
     "metadata": {},
     "output_type": "execute_result"
    }
   ],
   "source": [
    "bse_data.reset_index(inplace=True)\n",
    "bse_data.head()"
   ]
  },
  {
   "cell_type": "markdown",
   "metadata": {},
   "source": [
    "Using <b>dataframe.info()</b> to get a concise summary of both dataframes."
   ]
  },
  {
   "cell_type": "code",
   "execution_count": 6,
   "metadata": {},
   "outputs": [
    {
     "name": "stdout",
     "output_type": "stream",
     "text": [
      "<class 'pandas.core.frame.DataFrame'>\n",
      "RangeIndex: 4926 entries, 0 to 4925\n",
      "Data columns (total 7 columns):\n",
      " #   Column     Non-Null Count  Dtype         \n",
      "---  ------     --------------  -----         \n",
      " 0   Date       4926 non-null   datetime64[ns]\n",
      " 1   Open       4926 non-null   float64       \n",
      " 2   High       4926 non-null   float64       \n",
      " 3   Low        4926 non-null   float64       \n",
      " 4   Close      4926 non-null   float64       \n",
      " 5   Adj Close  4926 non-null   float64       \n",
      " 6   Volume     4926 non-null   int64         \n",
      "dtypes: datetime64[ns](1), float64(5), int64(1)\n",
      "memory usage: 269.5 KB\n"
     ]
    }
   ],
   "source": [
    "bse_data.info()"
   ]
  },
  {
   "cell_type": "code",
   "execution_count": 7,
   "metadata": {},
   "outputs": [
    {
     "name": "stdout",
     "output_type": "stream",
     "text": [
      "<class 'pandas.core.frame.DataFrame'>\n",
      "RangeIndex: 3424067 entries, 0 to 3424066\n",
      "Data columns (total 3 columns):\n",
      " #   Column             Dtype \n",
      "---  ------             ----- \n",
      " 0   publish_date       int64 \n",
      " 1   headline_category  object\n",
      " 2   headline_text      object\n",
      "dtypes: int64(1), object(2)\n",
      "memory usage: 78.4+ MB\n"
     ]
    }
   ],
   "source": [
    "news_headlines.info()"
   ]
  },
  {
   "cell_type": "markdown",
   "metadata": {},
   "source": [
    "Using <b>dataframe.isna().any()</b> to checking both dataframes for any null values"
   ]
  },
  {
   "cell_type": "code",
   "execution_count": 8,
   "metadata": {},
   "outputs": [
    {
     "data": {
      "text/plain": [
       "Date         False\n",
       "Open         False\n",
       "High         False\n",
       "Low          False\n",
       "Close        False\n",
       "Adj Close    False\n",
       "Volume       False\n",
       "dtype: bool"
      ]
     },
     "execution_count": 8,
     "metadata": {},
     "output_type": "execute_result"
    }
   ],
   "source": [
    "bse_data.isna().any()"
   ]
  },
  {
   "cell_type": "code",
   "execution_count": 9,
   "metadata": {},
   "outputs": [
    {
     "data": {
      "text/plain": [
       "publish_date         False\n",
       "headline_category    False\n",
       "headline_text        False\n",
       "dtype: bool"
      ]
     },
     "execution_count": 9,
     "metadata": {},
     "output_type": "execute_result"
    }
   ],
   "source": [
    "news_headlines.isna().any()"
   ]
  },
  {
   "cell_type": "markdown",
   "metadata": {},
   "source": [
    "### BSESN Data"
   ]
  },
  {
   "cell_type": "markdown",
   "metadata": {},
   "source": [
    "<ul>\n",
    "    <li>Dropping duplicates in <b>bse_data</b></li>\n",
    "    <li>Coverting the datatype of column <b>Date</b> from type <b>object</b> to type <b>datetime</b></li>\n",
    "    <li>Filtering the important columns i.e. <b>Date, Close, Open, High, Low</b> and <b>Volume</b></li>\n",
    "    <li>Setting column <b>Date</b> as the index column</li>\n",
    "    <li>Sorting <b>bse_data</b> according to <b>Date</b></li>\n",
    "</ul>"
   ]
  },
  {
   "cell_type": "code",
   "execution_count": 10,
   "metadata": {},
   "outputs": [
    {
     "data": {
      "text/html": [
       "<div>\n",
       "<style scoped>\n",
       "    .dataframe tbody tr th:only-of-type {\n",
       "        vertical-align: middle;\n",
       "    }\n",
       "\n",
       "    .dataframe tbody tr th {\n",
       "        vertical-align: top;\n",
       "    }\n",
       "\n",
       "    .dataframe thead th {\n",
       "        text-align: right;\n",
       "    }\n",
       "</style>\n",
       "<table border=\"1\" class=\"dataframe\">\n",
       "  <thead>\n",
       "    <tr style=\"text-align: right;\">\n",
       "      <th></th>\n",
       "      <th>Close</th>\n",
       "      <th>Open</th>\n",
       "      <th>High</th>\n",
       "      <th>Low</th>\n",
       "      <th>Volume</th>\n",
       "    </tr>\n",
       "    <tr>\n",
       "      <th>Date</th>\n",
       "      <th></th>\n",
       "      <th></th>\n",
       "      <th></th>\n",
       "      <th></th>\n",
       "      <th></th>\n",
       "    </tr>\n",
       "  </thead>\n",
       "  <tbody>\n",
       "    <tr>\n",
       "      <th>2001-01-02</th>\n",
       "      <td>4018.879883</td>\n",
       "      <td>3953.219971</td>\n",
       "      <td>4028.570068</td>\n",
       "      <td>3929.370117</td>\n",
       "      <td>0</td>\n",
       "    </tr>\n",
       "    <tr>\n",
       "      <th>2001-01-03</th>\n",
       "      <td>4060.020020</td>\n",
       "      <td>3977.580078</td>\n",
       "      <td>4067.659912</td>\n",
       "      <td>3977.580078</td>\n",
       "      <td>0</td>\n",
       "    </tr>\n",
       "    <tr>\n",
       "      <th>2001-01-04</th>\n",
       "      <td>4115.370117</td>\n",
       "      <td>4180.970215</td>\n",
       "      <td>4180.970215</td>\n",
       "      <td>4109.549805</td>\n",
       "      <td>0</td>\n",
       "    </tr>\n",
       "    <tr>\n",
       "      <th>2001-01-05</th>\n",
       "      <td>4183.729980</td>\n",
       "      <td>4116.339844</td>\n",
       "      <td>4195.009766</td>\n",
       "      <td>4115.350098</td>\n",
       "      <td>0</td>\n",
       "    </tr>\n",
       "    <tr>\n",
       "      <th>2001-01-08</th>\n",
       "      <td>4120.430176</td>\n",
       "      <td>4164.759766</td>\n",
       "      <td>4206.720215</td>\n",
       "      <td>4101.529785</td>\n",
       "      <td>0</td>\n",
       "    </tr>\n",
       "    <tr>\n",
       "      <th>...</th>\n",
       "      <td>...</td>\n",
       "      <td>...</td>\n",
       "      <td>...</td>\n",
       "      <td>...</td>\n",
       "      <td>...</td>\n",
       "    </tr>\n",
       "    <tr>\n",
       "      <th>2020-12-23</th>\n",
       "      <td>46444.179688</td>\n",
       "      <td>46072.300781</td>\n",
       "      <td>46513.320312</td>\n",
       "      <td>45899.101562</td>\n",
       "      <td>10500</td>\n",
       "    </tr>\n",
       "    <tr>\n",
       "      <th>2020-12-24</th>\n",
       "      <td>46973.539062</td>\n",
       "      <td>46743.488281</td>\n",
       "      <td>47053.398438</td>\n",
       "      <td>46539.019531</td>\n",
       "      <td>13700</td>\n",
       "    </tr>\n",
       "    <tr>\n",
       "      <th>2020-12-28</th>\n",
       "      <td>47353.750000</td>\n",
       "      <td>47153.589844</td>\n",
       "      <td>47406.718750</td>\n",
       "      <td>47148.238281</td>\n",
       "      <td>9600</td>\n",
       "    </tr>\n",
       "    <tr>\n",
       "      <th>2020-12-29</th>\n",
       "      <td>47613.078125</td>\n",
       "      <td>47466.621094</td>\n",
       "      <td>47714.550781</td>\n",
       "      <td>47361.898438</td>\n",
       "      <td>12800</td>\n",
       "    </tr>\n",
       "    <tr>\n",
       "      <th>2020-12-30</th>\n",
       "      <td>47746.218750</td>\n",
       "      <td>47789.031250</td>\n",
       "      <td>47807.851562</td>\n",
       "      <td>47358.359375</td>\n",
       "      <td>15600</td>\n",
       "    </tr>\n",
       "  </tbody>\n",
       "</table>\n",
       "<p>4926 rows × 5 columns</p>\n",
       "</div>"
      ],
      "text/plain": [
       "                   Close          Open          High           Low  Volume\n",
       "Date                                                                      \n",
       "2001-01-02   4018.879883   3953.219971   4028.570068   3929.370117       0\n",
       "2001-01-03   4060.020020   3977.580078   4067.659912   3977.580078       0\n",
       "2001-01-04   4115.370117   4180.970215   4180.970215   4109.549805       0\n",
       "2001-01-05   4183.729980   4116.339844   4195.009766   4115.350098       0\n",
       "2001-01-08   4120.430176   4164.759766   4206.720215   4101.529785       0\n",
       "...                  ...           ...           ...           ...     ...\n",
       "2020-12-23  46444.179688  46072.300781  46513.320312  45899.101562   10500\n",
       "2020-12-24  46973.539062  46743.488281  47053.398438  46539.019531   13700\n",
       "2020-12-28  47353.750000  47153.589844  47406.718750  47148.238281    9600\n",
       "2020-12-29  47613.078125  47466.621094  47714.550781  47361.898438   12800\n",
       "2020-12-30  47746.218750  47789.031250  47807.851562  47358.359375   15600\n",
       "\n",
       "[4926 rows x 5 columns]"
      ]
     },
     "execution_count": 10,
     "metadata": {},
     "output_type": "execute_result"
    }
   ],
   "source": [
    "bse_data = bse_data.drop_duplicates()\n",
    "\n",
    "bse_data['Date'] = pd.to_datetime(bse_data['Date']).dt.normalize()\n",
    "\n",
    "bse_data = bse_data.filter(['Date', 'Close', 'Open', 'High', 'Low', 'Volume'])\n",
    "\n",
    "bse_data.set_index('Date', inplace= True)\n",
    "\n",
    "bse_data = bse_data.sort_index(ascending=True, axis=0)\n",
    "bse_data"
   ]
  },
  {
   "cell_type": "markdown",
   "metadata": {},
   "source": [
    "### News Headlines"
   ]
  },
  {
   "cell_type": "markdown",
   "metadata": {},
   "source": [
    "<ul>\n",
    "    <li>Dropping duplicates in <b>news_headlines</b></li>\n",
    "    <li>Coverting the datatype of column <b>Date</b> from type <b>object</b> to type <b>datetime</b></li>\n",
    "    <li>Filtering the important columns i.e. <b>publish_date</b> and <b>headline_text</b></li>\n",
    "    <li>Grouping the news headlines according to <b>Date</b></li>\n",
    "    <li>Setting column <b>Date</b> as the index column</li>\n",
    "    <li>Sorting <b>news_headlines</b> according to <b>Date</b></li>\n",
    "</ul>"
   ]
  },
  {
   "cell_type": "code",
   "execution_count": 11,
   "metadata": {},
   "outputs": [
    {
     "data": {
      "text/html": [
       "<div>\n",
       "<style scoped>\n",
       "    .dataframe tbody tr th:only-of-type {\n",
       "        vertical-align: middle;\n",
       "    }\n",
       "\n",
       "    .dataframe tbody tr th {\n",
       "        vertical-align: top;\n",
       "    }\n",
       "\n",
       "    .dataframe thead th {\n",
       "        text-align: right;\n",
       "    }\n",
       "</style>\n",
       "<table border=\"1\" class=\"dataframe\">\n",
       "  <thead>\n",
       "    <tr style=\"text-align: right;\">\n",
       "      <th></th>\n",
       "      <th>headline_text</th>\n",
       "    </tr>\n",
       "    <tr>\n",
       "      <th>publish_date</th>\n",
       "      <th></th>\n",
       "    </tr>\n",
       "  </thead>\n",
       "  <tbody>\n",
       "    <tr>\n",
       "      <th>2001-01-02</th>\n",
       "      <td>Status quo will not be disturbed at Ayodhya; s...</td>\n",
       "    </tr>\n",
       "    <tr>\n",
       "      <th>2001-01-03</th>\n",
       "      <td>Powerless north India gropes in the dark,Think...</td>\n",
       "    </tr>\n",
       "    <tr>\n",
       "      <th>2001-01-04</th>\n",
       "      <td>The string that pulled Stephen Hawking to Indi...</td>\n",
       "    </tr>\n",
       "    <tr>\n",
       "      <th>2001-01-05</th>\n",
       "      <td>Light combat craft takes India into club class...</td>\n",
       "    </tr>\n",
       "    <tr>\n",
       "      <th>2001-01-06</th>\n",
       "      <td>Light combat craft takes India into club class...</td>\n",
       "    </tr>\n",
       "    <tr>\n",
       "      <th>...</th>\n",
       "      <td>...</td>\n",
       "    </tr>\n",
       "    <tr>\n",
       "      <th>2020-12-27</th>\n",
       "      <td>#BigInterview! Dhritiman Chatterjee: Nobody da...</td>\n",
       "    </tr>\n",
       "    <tr>\n",
       "      <th>2020-12-28</th>\n",
       "      <td>Horoscope Today; 28 December 2020: Check astro...</td>\n",
       "    </tr>\n",
       "    <tr>\n",
       "      <th>2020-12-29</th>\n",
       "      <td>Man recovers charred remains of 'thief' from h...</td>\n",
       "    </tr>\n",
       "    <tr>\n",
       "      <th>2020-12-30</th>\n",
       "      <td>Numerology Readings 30 December 2020: Predicti...</td>\n",
       "    </tr>\n",
       "    <tr>\n",
       "      <th>2020-12-31</th>\n",
       "      <td>Horoscope Today; 31 December 2020: Check astro...</td>\n",
       "    </tr>\n",
       "  </tbody>\n",
       "</table>\n",
       "<p>7262 rows × 1 columns</p>\n",
       "</div>"
      ],
      "text/plain": [
       "                                                  headline_text\n",
       "publish_date                                                   \n",
       "2001-01-02    Status quo will not be disturbed at Ayodhya; s...\n",
       "2001-01-03    Powerless north India gropes in the dark,Think...\n",
       "2001-01-04    The string that pulled Stephen Hawking to Indi...\n",
       "2001-01-05    Light combat craft takes India into club class...\n",
       "2001-01-06    Light combat craft takes India into club class...\n",
       "...                                                         ...\n",
       "2020-12-27    #BigInterview! Dhritiman Chatterjee: Nobody da...\n",
       "2020-12-28    Horoscope Today; 28 December 2020: Check astro...\n",
       "2020-12-29    Man recovers charred remains of 'thief' from h...\n",
       "2020-12-30    Numerology Readings 30 December 2020: Predicti...\n",
       "2020-12-31    Horoscope Today; 31 December 2020: Check astro...\n",
       "\n",
       "[7262 rows x 1 columns]"
      ]
     },
     "execution_count": 11,
     "metadata": {},
     "output_type": "execute_result"
    }
   ],
   "source": [
    "news_headlines = news_headlines.drop_duplicates()\n",
    "\n",
    "news_headlines['publish_date'] = news_headlines['publish_date'].astype(str)\n",
    "news_headlines['publish_date'] = news_headlines['publish_date'].apply(lambda x: x[0:4]+'-'+x[4:6]+'-'+x[6:8])\n",
    "news_headlines['publish_date'] = pd.to_datetime(news_headlines['publish_date']).dt.normalize()\n",
    "\n",
    "news_headlines = news_headlines.filter(['publish_date', 'headline_text'])\n",
    "\n",
    "news_headlines = news_headlines.groupby(['publish_date'])['headline_text'].apply(lambda x: ','.join(x)).reset_index()\n",
    "\n",
    "news_headlines.set_index('publish_date', inplace= True)\n",
    "\n",
    "news_headlines = news_headlines.sort_index(ascending=True, axis=0)\n",
    "news_headlines"
   ]
  },
  {
   "cell_type": "markdown",
   "metadata": {},
   "source": [
    "### Combining both Prices and Headlines"
   ]
  },
  {
   "cell_type": "markdown",
   "metadata": {},
   "source": [
    "<ul>\n",
    "    <li>Concatenating the datasets: <b>bse_data</b> and <b>news_headlines</b></li>\n",
    "    <li>Displaying the combined <b>stock_data</b></li>\n",
    "</ul>"
   ]
  },
  {
   "cell_type": "code",
   "execution_count": 12,
   "metadata": {},
   "outputs": [
    {
     "data": {
      "text/html": [
       "<div>\n",
       "<style scoped>\n",
       "    .dataframe tbody tr th:only-of-type {\n",
       "        vertical-align: middle;\n",
       "    }\n",
       "\n",
       "    .dataframe tbody tr th {\n",
       "        vertical-align: top;\n",
       "    }\n",
       "\n",
       "    .dataframe thead th {\n",
       "        text-align: right;\n",
       "    }\n",
       "</style>\n",
       "<table border=\"1\" class=\"dataframe\">\n",
       "  <thead>\n",
       "    <tr style=\"text-align: right;\">\n",
       "      <th></th>\n",
       "      <th>Close</th>\n",
       "      <th>Open</th>\n",
       "      <th>High</th>\n",
       "      <th>Low</th>\n",
       "      <th>Volume</th>\n",
       "      <th>headline_text</th>\n",
       "    </tr>\n",
       "  </thead>\n",
       "  <tbody>\n",
       "    <tr>\n",
       "      <th>2001-01-02</th>\n",
       "      <td>4018.879883</td>\n",
       "      <td>3953.219971</td>\n",
       "      <td>4028.570068</td>\n",
       "      <td>3929.370117</td>\n",
       "      <td>0.0</td>\n",
       "      <td>Status quo will not be disturbed at Ayodhya; s...</td>\n",
       "    </tr>\n",
       "    <tr>\n",
       "      <th>2001-01-03</th>\n",
       "      <td>4060.020020</td>\n",
       "      <td>3977.580078</td>\n",
       "      <td>4067.659912</td>\n",
       "      <td>3977.580078</td>\n",
       "      <td>0.0</td>\n",
       "      <td>Powerless north India gropes in the dark,Think...</td>\n",
       "    </tr>\n",
       "    <tr>\n",
       "      <th>2001-01-04</th>\n",
       "      <td>4115.370117</td>\n",
       "      <td>4180.970215</td>\n",
       "      <td>4180.970215</td>\n",
       "      <td>4109.549805</td>\n",
       "      <td>0.0</td>\n",
       "      <td>The string that pulled Stephen Hawking to Indi...</td>\n",
       "    </tr>\n",
       "    <tr>\n",
       "      <th>2001-01-05</th>\n",
       "      <td>4183.729980</td>\n",
       "      <td>4116.339844</td>\n",
       "      <td>4195.009766</td>\n",
       "      <td>4115.350098</td>\n",
       "      <td>0.0</td>\n",
       "      <td>Light combat craft takes India into club class...</td>\n",
       "    </tr>\n",
       "    <tr>\n",
       "      <th>2001-01-08</th>\n",
       "      <td>4120.430176</td>\n",
       "      <td>4164.759766</td>\n",
       "      <td>4206.720215</td>\n",
       "      <td>4101.529785</td>\n",
       "      <td>0.0</td>\n",
       "      <td>Sangh Parivar; Babri panel up the ante,Frontru...</td>\n",
       "    </tr>\n",
       "    <tr>\n",
       "      <th>...</th>\n",
       "      <td>...</td>\n",
       "      <td>...</td>\n",
       "      <td>...</td>\n",
       "      <td>...</td>\n",
       "      <td>...</td>\n",
       "      <td>...</td>\n",
       "    </tr>\n",
       "    <tr>\n",
       "      <th>2020-12-23</th>\n",
       "      <td>46444.179688</td>\n",
       "      <td>46072.300781</td>\n",
       "      <td>46513.320312</td>\n",
       "      <td>45899.101562</td>\n",
       "      <td>10500.0</td>\n",
       "      <td>Sawmill in Makarpura GIDC gutted; none hurt,Ci...</td>\n",
       "    </tr>\n",
       "    <tr>\n",
       "      <th>2020-12-24</th>\n",
       "      <td>46973.539062</td>\n",
       "      <td>46743.488281</td>\n",
       "      <td>47053.398438</td>\n",
       "      <td>46539.019531</td>\n",
       "      <td>13700.0</td>\n",
       "      <td>How to set the mood for sex during cold winter...</td>\n",
       "    </tr>\n",
       "    <tr>\n",
       "      <th>2020-12-28</th>\n",
       "      <td>47353.750000</td>\n",
       "      <td>47153.589844</td>\n",
       "      <td>47406.718750</td>\n",
       "      <td>47148.238281</td>\n",
       "      <td>9600.0</td>\n",
       "      <td>Horoscope Today; 28 December 2020: Check astro...</td>\n",
       "    </tr>\n",
       "    <tr>\n",
       "      <th>2020-12-29</th>\n",
       "      <td>47613.078125</td>\n",
       "      <td>47466.621094</td>\n",
       "      <td>47714.550781</td>\n",
       "      <td>47361.898438</td>\n",
       "      <td>12800.0</td>\n",
       "      <td>Man recovers charred remains of 'thief' from h...</td>\n",
       "    </tr>\n",
       "    <tr>\n",
       "      <th>2020-12-30</th>\n",
       "      <td>47746.218750</td>\n",
       "      <td>47789.031250</td>\n",
       "      <td>47807.851562</td>\n",
       "      <td>47358.359375</td>\n",
       "      <td>15600.0</td>\n",
       "      <td>Numerology Readings 30 December 2020: Predicti...</td>\n",
       "    </tr>\n",
       "  </tbody>\n",
       "</table>\n",
       "<p>4897 rows × 6 columns</p>\n",
       "</div>"
      ],
      "text/plain": [
       "                   Close          Open          High           Low   Volume  \\\n",
       "2001-01-02   4018.879883   3953.219971   4028.570068   3929.370117      0.0   \n",
       "2001-01-03   4060.020020   3977.580078   4067.659912   3977.580078      0.0   \n",
       "2001-01-04   4115.370117   4180.970215   4180.970215   4109.549805      0.0   \n",
       "2001-01-05   4183.729980   4116.339844   4195.009766   4115.350098      0.0   \n",
       "2001-01-08   4120.430176   4164.759766   4206.720215   4101.529785      0.0   \n",
       "...                  ...           ...           ...           ...      ...   \n",
       "2020-12-23  46444.179688  46072.300781  46513.320312  45899.101562  10500.0   \n",
       "2020-12-24  46973.539062  46743.488281  47053.398438  46539.019531  13700.0   \n",
       "2020-12-28  47353.750000  47153.589844  47406.718750  47148.238281   9600.0   \n",
       "2020-12-29  47613.078125  47466.621094  47714.550781  47361.898438  12800.0   \n",
       "2020-12-30  47746.218750  47789.031250  47807.851562  47358.359375  15600.0   \n",
       "\n",
       "                                                headline_text  \n",
       "2001-01-02  Status quo will not be disturbed at Ayodhya; s...  \n",
       "2001-01-03  Powerless north India gropes in the dark,Think...  \n",
       "2001-01-04  The string that pulled Stephen Hawking to Indi...  \n",
       "2001-01-05  Light combat craft takes India into club class...  \n",
       "2001-01-08  Sangh Parivar; Babri panel up the ante,Frontru...  \n",
       "...                                                       ...  \n",
       "2020-12-23  Sawmill in Makarpura GIDC gutted; none hurt,Ci...  \n",
       "2020-12-24  How to set the mood for sex during cold winter...  \n",
       "2020-12-28  Horoscope Today; 28 December 2020: Check astro...  \n",
       "2020-12-29  Man recovers charred remains of 'thief' from h...  \n",
       "2020-12-30  Numerology Readings 30 December 2020: Predicti...  \n",
       "\n",
       "[4897 rows x 6 columns]"
      ]
     },
     "execution_count": 12,
     "metadata": {},
     "output_type": "execute_result"
    }
   ],
   "source": [
    "stock_data = pd.concat([bse_data, news_headlines], axis=1)\n",
    "\n",
    "stock_data.dropna(axis=0, inplace=True)\n",
    "\n",
    "stock_data"
   ]
  },
  {
   "cell_type": "markdown",
   "metadata": {},
   "source": [
    "Adding new columns: <b>[compound, negative, neutral, positive]</b> to <b>stock_data</b> to perform Sentiment Analysis"
   ]
  },
  {
   "cell_type": "code",
   "execution_count": 13,
   "metadata": {},
   "outputs": [
    {
     "data": {
      "text/html": [
       "<div>\n",
       "<style scoped>\n",
       "    .dataframe tbody tr th:only-of-type {\n",
       "        vertical-align: middle;\n",
       "    }\n",
       "\n",
       "    .dataframe tbody tr th {\n",
       "        vertical-align: top;\n",
       "    }\n",
       "\n",
       "    .dataframe thead th {\n",
       "        text-align: right;\n",
       "    }\n",
       "</style>\n",
       "<table border=\"1\" class=\"dataframe\">\n",
       "  <thead>\n",
       "    <tr style=\"text-align: right;\">\n",
       "      <th></th>\n",
       "      <th>Close</th>\n",
       "      <th>Open</th>\n",
       "      <th>High</th>\n",
       "      <th>Low</th>\n",
       "      <th>Volume</th>\n",
       "      <th>headline_text</th>\n",
       "      <th>compound</th>\n",
       "      <th>negative</th>\n",
       "      <th>neutral</th>\n",
       "      <th>positive</th>\n",
       "    </tr>\n",
       "  </thead>\n",
       "  <tbody>\n",
       "    <tr>\n",
       "      <th>2001-01-02</th>\n",
       "      <td>4018.879883</td>\n",
       "      <td>3953.219971</td>\n",
       "      <td>4028.570068</td>\n",
       "      <td>3929.370117</td>\n",
       "      <td>0.0</td>\n",
       "      <td>Status quo will not be disturbed at Ayodhya; s...</td>\n",
       "      <td></td>\n",
       "      <td></td>\n",
       "      <td></td>\n",
       "      <td></td>\n",
       "    </tr>\n",
       "    <tr>\n",
       "      <th>2001-01-03</th>\n",
       "      <td>4060.020020</td>\n",
       "      <td>3977.580078</td>\n",
       "      <td>4067.659912</td>\n",
       "      <td>3977.580078</td>\n",
       "      <td>0.0</td>\n",
       "      <td>Powerless north India gropes in the dark,Think...</td>\n",
       "      <td></td>\n",
       "      <td></td>\n",
       "      <td></td>\n",
       "      <td></td>\n",
       "    </tr>\n",
       "    <tr>\n",
       "      <th>2001-01-04</th>\n",
       "      <td>4115.370117</td>\n",
       "      <td>4180.970215</td>\n",
       "      <td>4180.970215</td>\n",
       "      <td>4109.549805</td>\n",
       "      <td>0.0</td>\n",
       "      <td>The string that pulled Stephen Hawking to Indi...</td>\n",
       "      <td></td>\n",
       "      <td></td>\n",
       "      <td></td>\n",
       "      <td></td>\n",
       "    </tr>\n",
       "    <tr>\n",
       "      <th>2001-01-05</th>\n",
       "      <td>4183.729980</td>\n",
       "      <td>4116.339844</td>\n",
       "      <td>4195.009766</td>\n",
       "      <td>4115.350098</td>\n",
       "      <td>0.0</td>\n",
       "      <td>Light combat craft takes India into club class...</td>\n",
       "      <td></td>\n",
       "      <td></td>\n",
       "      <td></td>\n",
       "      <td></td>\n",
       "    </tr>\n",
       "    <tr>\n",
       "      <th>2001-01-08</th>\n",
       "      <td>4120.430176</td>\n",
       "      <td>4164.759766</td>\n",
       "      <td>4206.720215</td>\n",
       "      <td>4101.529785</td>\n",
       "      <td>0.0</td>\n",
       "      <td>Sangh Parivar; Babri panel up the ante,Frontru...</td>\n",
       "      <td></td>\n",
       "      <td></td>\n",
       "      <td></td>\n",
       "      <td></td>\n",
       "    </tr>\n",
       "  </tbody>\n",
       "</table>\n",
       "</div>"
      ],
      "text/plain": [
       "                  Close         Open         High          Low  Volume  \\\n",
       "2001-01-02  4018.879883  3953.219971  4028.570068  3929.370117     0.0   \n",
       "2001-01-03  4060.020020  3977.580078  4067.659912  3977.580078     0.0   \n",
       "2001-01-04  4115.370117  4180.970215  4180.970215  4109.549805     0.0   \n",
       "2001-01-05  4183.729980  4116.339844  4195.009766  4115.350098     0.0   \n",
       "2001-01-08  4120.430176  4164.759766  4206.720215  4101.529785     0.0   \n",
       "\n",
       "                                                headline_text compound  \\\n",
       "2001-01-02  Status quo will not be disturbed at Ayodhya; s...            \n",
       "2001-01-03  Powerless north India gropes in the dark,Think...            \n",
       "2001-01-04  The string that pulled Stephen Hawking to Indi...            \n",
       "2001-01-05  Light combat craft takes India into club class...            \n",
       "2001-01-08  Sangh Parivar; Babri panel up the ante,Frontru...            \n",
       "\n",
       "           negative neutral positive  \n",
       "2001-01-02                            \n",
       "2001-01-03                            \n",
       "2001-01-04                            \n",
       "2001-01-05                            \n",
       "2001-01-08                            "
      ]
     },
     "execution_count": 13,
     "metadata": {},
     "output_type": "execute_result"
    }
   ],
   "source": [
    "stock_data['compound'] = ''\n",
    "stock_data['negative'] = ''\n",
    "stock_data['neutral'] = ''\n",
    "stock_data['positive'] = ''\n",
    "stock_data.head()"
   ]
  },
  {
   "cell_type": "markdown",
   "metadata": {},
   "source": [
    "### Importing Libraries to perfrom Sentiment Analysis\n",
    "Lets import the following libraries that are required for the task:\n",
    "\n",
    "<ul>\n",
    "    <li> <b>nltk</b> </li>\n",
    "    <li> <b>SentimentIntensityAnalyzer</b> from <b>nltk.sentiment.vader</b> </li>\n",
    "</ul>\n",
    "\n",
    "Also let's download <b>vader_lexicon</b>"
   ]
  },
  {
   "cell_type": "code",
   "execution_count": 14,
   "metadata": {},
   "outputs": [
    {
     "name": "stderr",
     "output_type": "stream",
     "text": [
      "[nltk_data] Downloading package vader_lexicon to\n",
      "[nltk_data]     C:\\Users\\asus\\AppData\\Roaming\\nltk_data...\n",
      "[nltk_data]   Package vader_lexicon is already up-to-date!\n"
     ]
    }
   ],
   "source": [
    "import nltk\n",
    "nltk.download('vader_lexicon')\n",
    "from nltk.sentiment.vader import SentimentIntensityAnalyzer"
   ]
  },
  {
   "cell_type": "markdown",
   "metadata": {},
   "source": [
    "<ul>\n",
    "    <li>Calculating sentiment scores</li>\n",
    "</ul>"
   ]
  },
  {
   "cell_type": "code",
   "execution_count": 15,
   "metadata": {},
   "outputs": [
    {
     "name": "stdout",
     "output_type": "stream",
     "text": [
      "Start calculating sentiment scores:\n",
      "Compound Done\n",
      "Negative Done\n",
      "Neutral Done\n",
      "Positive Done\n",
      "Stop\n"
     ]
    },
    {
     "data": {
      "text/html": [
       "<div>\n",
       "<style scoped>\n",
       "    .dataframe tbody tr th:only-of-type {\n",
       "        vertical-align: middle;\n",
       "    }\n",
       "\n",
       "    .dataframe tbody tr th {\n",
       "        vertical-align: top;\n",
       "    }\n",
       "\n",
       "    .dataframe thead th {\n",
       "        text-align: right;\n",
       "    }\n",
       "</style>\n",
       "<table border=\"1\" class=\"dataframe\">\n",
       "  <thead>\n",
       "    <tr style=\"text-align: right;\">\n",
       "      <th></th>\n",
       "      <th>Close</th>\n",
       "      <th>Open</th>\n",
       "      <th>High</th>\n",
       "      <th>Low</th>\n",
       "      <th>Volume</th>\n",
       "      <th>headline_text</th>\n",
       "      <th>compound</th>\n",
       "      <th>negative</th>\n",
       "      <th>neutral</th>\n",
       "      <th>positive</th>\n",
       "    </tr>\n",
       "  </thead>\n",
       "  <tbody>\n",
       "    <tr>\n",
       "      <th>2001-01-02</th>\n",
       "      <td>4018.879883</td>\n",
       "      <td>3953.219971</td>\n",
       "      <td>4028.570068</td>\n",
       "      <td>3929.370117</td>\n",
       "      <td>0.0</td>\n",
       "      <td>Status quo will not be disturbed at Ayodhya; s...</td>\n",
       "      <td>-0.9621</td>\n",
       "      <td>0.119</td>\n",
       "      <td>0.817</td>\n",
       "      <td>0.064</td>\n",
       "    </tr>\n",
       "    <tr>\n",
       "      <th>2001-01-03</th>\n",
       "      <td>4060.020020</td>\n",
       "      <td>3977.580078</td>\n",
       "      <td>4067.659912</td>\n",
       "      <td>3977.580078</td>\n",
       "      <td>0.0</td>\n",
       "      <td>Powerless north India gropes in the dark,Think...</td>\n",
       "      <td>0.6322</td>\n",
       "      <td>0.084</td>\n",
       "      <td>0.817</td>\n",
       "      <td>0.098</td>\n",
       "    </tr>\n",
       "    <tr>\n",
       "      <th>2001-01-04</th>\n",
       "      <td>4115.370117</td>\n",
       "      <td>4180.970215</td>\n",
       "      <td>4180.970215</td>\n",
       "      <td>4109.549805</td>\n",
       "      <td>0.0</td>\n",
       "      <td>The string that pulled Stephen Hawking to Indi...</td>\n",
       "      <td>0.6648</td>\n",
       "      <td>0.077</td>\n",
       "      <td>0.843</td>\n",
       "      <td>0.080</td>\n",
       "    </tr>\n",
       "    <tr>\n",
       "      <th>2001-01-05</th>\n",
       "      <td>4183.729980</td>\n",
       "      <td>4116.339844</td>\n",
       "      <td>4195.009766</td>\n",
       "      <td>4115.350098</td>\n",
       "      <td>0.0</td>\n",
       "      <td>Light combat craft takes India into club class...</td>\n",
       "      <td>0.9253</td>\n",
       "      <td>0.104</td>\n",
       "      <td>0.744</td>\n",
       "      <td>0.152</td>\n",
       "    </tr>\n",
       "    <tr>\n",
       "      <th>2001-01-08</th>\n",
       "      <td>4120.430176</td>\n",
       "      <td>4164.759766</td>\n",
       "      <td>4206.720215</td>\n",
       "      <td>4101.529785</td>\n",
       "      <td>0.0</td>\n",
       "      <td>Sangh Parivar; Babri panel up the ante,Frontru...</td>\n",
       "      <td>-0.9638</td>\n",
       "      <td>0.119</td>\n",
       "      <td>0.855</td>\n",
       "      <td>0.026</td>\n",
       "    </tr>\n",
       "  </tbody>\n",
       "</table>\n",
       "</div>"
      ],
      "text/plain": [
       "                  Close         Open         High          Low  Volume  \\\n",
       "2001-01-02  4018.879883  3953.219971  4028.570068  3929.370117     0.0   \n",
       "2001-01-03  4060.020020  3977.580078  4067.659912  3977.580078     0.0   \n",
       "2001-01-04  4115.370117  4180.970215  4180.970215  4109.549805     0.0   \n",
       "2001-01-05  4183.729980  4116.339844  4195.009766  4115.350098     0.0   \n",
       "2001-01-08  4120.430176  4164.759766  4206.720215  4101.529785     0.0   \n",
       "\n",
       "                                                headline_text  compound  \\\n",
       "2001-01-02  Status quo will not be disturbed at Ayodhya; s...   -0.9621   \n",
       "2001-01-03  Powerless north India gropes in the dark,Think...    0.6322   \n",
       "2001-01-04  The string that pulled Stephen Hawking to Indi...    0.6648   \n",
       "2001-01-05  Light combat craft takes India into club class...    0.9253   \n",
       "2001-01-08  Sangh Parivar; Babri panel up the ante,Frontru...   -0.9638   \n",
       "\n",
       "            negative  neutral  positive  \n",
       "2001-01-02     0.119    0.817     0.064  \n",
       "2001-01-03     0.084    0.817     0.098  \n",
       "2001-01-04     0.077    0.843     0.080  \n",
       "2001-01-05     0.104    0.744     0.152  \n",
       "2001-01-08     0.119    0.855     0.026  "
      ]
     },
     "execution_count": 15,
     "metadata": {},
     "output_type": "execute_result"
    }
   ],
   "source": [
    "sid = SentimentIntensityAnalyzer()\n",
    "print('Start calculating sentiment scores:')\n",
    "\n",
    "stock_data['compound'] = stock_data['headline_text'].apply(lambda x: sid.polarity_scores(x)['compound'])\n",
    "print('Compound Done')\n",
    "stock_data['negative'] = stock_data['headline_text'].apply(lambda x: sid.polarity_scores(x)['neg'])\n",
    "print('Negative Done')\n",
    "stock_data['neutral'] = stock_data['headline_text'].apply(lambda x: sid.polarity_scores(x)['neu'])\n",
    "print('Neutral Done')\n",
    "stock_data['positive'] = stock_data['headline_text'].apply(lambda x: sid.polarity_scores(x)['pos'])\n",
    "print('Positive Done')\n",
    "print('Stop')\n",
    "\n",
    "stock_data.head()"
   ]
  },
  {
   "cell_type": "markdown",
   "metadata": {},
   "source": [
    "<ul>\n",
    "    <li>Dropping unwanted <b>headline_text</b> and rearranging columns</li>\n",
    "    <li>Displaying final <b>stock_data<b></li>\n",
    "</ul>"
   ]
  },
  {
   "cell_type": "code",
   "execution_count": 16,
   "metadata": {},
   "outputs": [
    {
     "data": {
      "text/html": [
       "<div>\n",
       "<style scoped>\n",
       "    .dataframe tbody tr th:only-of-type {\n",
       "        vertical-align: middle;\n",
       "    }\n",
       "\n",
       "    .dataframe tbody tr th {\n",
       "        vertical-align: top;\n",
       "    }\n",
       "\n",
       "    .dataframe thead th {\n",
       "        text-align: right;\n",
       "    }\n",
       "</style>\n",
       "<table border=\"1\" class=\"dataframe\">\n",
       "  <thead>\n",
       "    <tr style=\"text-align: right;\">\n",
       "      <th></th>\n",
       "      <th>Close</th>\n",
       "      <th>compound</th>\n",
       "      <th>negative</th>\n",
       "      <th>neutral</th>\n",
       "      <th>positive</th>\n",
       "      <th>Open</th>\n",
       "      <th>High</th>\n",
       "      <th>Low</th>\n",
       "      <th>Volume</th>\n",
       "    </tr>\n",
       "  </thead>\n",
       "  <tbody>\n",
       "    <tr>\n",
       "      <th>2001-01-02</th>\n",
       "      <td>4018.879883</td>\n",
       "      <td>-0.9621</td>\n",
       "      <td>0.119</td>\n",
       "      <td>0.817</td>\n",
       "      <td>0.064</td>\n",
       "      <td>3953.219971</td>\n",
       "      <td>4028.570068</td>\n",
       "      <td>3929.370117</td>\n",
       "      <td>0.0</td>\n",
       "    </tr>\n",
       "    <tr>\n",
       "      <th>2001-01-03</th>\n",
       "      <td>4060.020020</td>\n",
       "      <td>0.6322</td>\n",
       "      <td>0.084</td>\n",
       "      <td>0.817</td>\n",
       "      <td>0.098</td>\n",
       "      <td>3977.580078</td>\n",
       "      <td>4067.659912</td>\n",
       "      <td>3977.580078</td>\n",
       "      <td>0.0</td>\n",
       "    </tr>\n",
       "    <tr>\n",
       "      <th>2001-01-04</th>\n",
       "      <td>4115.370117</td>\n",
       "      <td>0.6648</td>\n",
       "      <td>0.077</td>\n",
       "      <td>0.843</td>\n",
       "      <td>0.080</td>\n",
       "      <td>4180.970215</td>\n",
       "      <td>4180.970215</td>\n",
       "      <td>4109.549805</td>\n",
       "      <td>0.0</td>\n",
       "    </tr>\n",
       "    <tr>\n",
       "      <th>2001-01-05</th>\n",
       "      <td>4183.729980</td>\n",
       "      <td>0.9253</td>\n",
       "      <td>0.104</td>\n",
       "      <td>0.744</td>\n",
       "      <td>0.152</td>\n",
       "      <td>4116.339844</td>\n",
       "      <td>4195.009766</td>\n",
       "      <td>4115.350098</td>\n",
       "      <td>0.0</td>\n",
       "    </tr>\n",
       "    <tr>\n",
       "      <th>2001-01-08</th>\n",
       "      <td>4120.430176</td>\n",
       "      <td>-0.9638</td>\n",
       "      <td>0.119</td>\n",
       "      <td>0.855</td>\n",
       "      <td>0.026</td>\n",
       "      <td>4164.759766</td>\n",
       "      <td>4206.720215</td>\n",
       "      <td>4101.529785</td>\n",
       "      <td>0.0</td>\n",
       "    </tr>\n",
       "  </tbody>\n",
       "</table>\n",
       "</div>"
      ],
      "text/plain": [
       "                  Close  compound  negative  neutral  positive         Open  \\\n",
       "2001-01-02  4018.879883   -0.9621     0.119    0.817     0.064  3953.219971   \n",
       "2001-01-03  4060.020020    0.6322     0.084    0.817     0.098  3977.580078   \n",
       "2001-01-04  4115.370117    0.6648     0.077    0.843     0.080  4180.970215   \n",
       "2001-01-05  4183.729980    0.9253     0.104    0.744     0.152  4116.339844   \n",
       "2001-01-08  4120.430176   -0.9638     0.119    0.855     0.026  4164.759766   \n",
       "\n",
       "                   High          Low  Volume  \n",
       "2001-01-02  4028.570068  3929.370117     0.0  \n",
       "2001-01-03  4067.659912  3977.580078     0.0  \n",
       "2001-01-04  4180.970215  4109.549805     0.0  \n",
       "2001-01-05  4195.009766  4115.350098     0.0  \n",
       "2001-01-08  4206.720215  4101.529785     0.0  "
      ]
     },
     "execution_count": 16,
     "metadata": {},
     "output_type": "execute_result"
    }
   ],
   "source": [
    "stock_data.drop(['headline_text'], inplace=True, axis=1)\n",
    "stock_data = stock_data[['Close', 'compound', 'negative', 'neutral', 'positive', 'Open', 'High', 'Low', 'Volume']]\n",
    "\n",
    "stock_data.head()"
   ]
  },
  {
   "cell_type": "markdown",
   "metadata": {},
   "source": [
    "### Feature engineering of the Combined Data"
   ]
  },
  {
   "cell_type": "markdown",
   "metadata": {},
   "source": [
    "<ul>\n",
    "    <li>Using <b>dataframe.isna().any()</b> to checking <b>stock_data</b> for any null values</li>\n",
    "    <li>Using <b>dataframe.describe()</b> to view some basic statistical details like percentile, mean, std etc. of <b>stock_data</b></li>\n",
    "    <li>Using <b>dataframe.info()</b> to get a concise summary of <b>stock_data</b></li>\n",
    "</ul>"
   ]
  },
  {
   "cell_type": "code",
   "execution_count": 17,
   "metadata": {},
   "outputs": [
    {
     "data": {
      "text/plain": [
       "Close       False\n",
       "compound    False\n",
       "negative    False\n",
       "neutral     False\n",
       "positive    False\n",
       "Open        False\n",
       "High        False\n",
       "Low         False\n",
       "Volume      False\n",
       "dtype: bool"
      ]
     },
     "execution_count": 17,
     "metadata": {},
     "output_type": "execute_result"
    }
   ],
   "source": [
    "stock_data.isna().any()"
   ]
  },
  {
   "cell_type": "code",
   "execution_count": 18,
   "metadata": {},
   "outputs": [
    {
     "data": {
      "text/html": [
       "<div>\n",
       "<style scoped>\n",
       "    .dataframe tbody tr th:only-of-type {\n",
       "        vertical-align: middle;\n",
       "    }\n",
       "\n",
       "    .dataframe tbody tr th {\n",
       "        vertical-align: top;\n",
       "    }\n",
       "\n",
       "    .dataframe thead th {\n",
       "        text-align: right;\n",
       "    }\n",
       "</style>\n",
       "<table border=\"1\" class=\"dataframe\">\n",
       "  <thead>\n",
       "    <tr style=\"text-align: right;\">\n",
       "      <th></th>\n",
       "      <th>Close</th>\n",
       "      <th>compound</th>\n",
       "      <th>negative</th>\n",
       "      <th>neutral</th>\n",
       "      <th>positive</th>\n",
       "      <th>Open</th>\n",
       "      <th>High</th>\n",
       "      <th>Low</th>\n",
       "      <th>Volume</th>\n",
       "    </tr>\n",
       "  </thead>\n",
       "  <tbody>\n",
       "    <tr>\n",
       "      <th>count</th>\n",
       "      <td>4897.000000</td>\n",
       "      <td>4897.000000</td>\n",
       "      <td>4897.000000</td>\n",
       "      <td>4897.000000</td>\n",
       "      <td>4897.000000</td>\n",
       "      <td>4897.000000</td>\n",
       "      <td>4897.000000</td>\n",
       "      <td>4897.000000</td>\n",
       "      <td>4.897000e+03</td>\n",
       "    </tr>\n",
       "    <tr>\n",
       "      <th>mean</th>\n",
       "      <td>18678.472417</td>\n",
       "      <td>-0.877449</td>\n",
       "      <td>0.126788</td>\n",
       "      <td>0.786598</td>\n",
       "      <td>0.086608</td>\n",
       "      <td>18698.702253</td>\n",
       "      <td>18811.479896</td>\n",
       "      <td>18549.782309</td>\n",
       "      <td>8.065953e+04</td>\n",
       "    </tr>\n",
       "    <tr>\n",
       "      <th>std</th>\n",
       "      <td>11221.527656</td>\n",
       "      <td>0.441503</td>\n",
       "      <td>0.024098</td>\n",
       "      <td>0.032985</td>\n",
       "      <td>0.020849</td>\n",
       "      <td>11238.657732</td>\n",
       "      <td>11277.863824</td>\n",
       "      <td>11169.519229</td>\n",
       "      <td>1.069531e+06</td>\n",
       "    </tr>\n",
       "    <tr>\n",
       "      <th>min</th>\n",
       "      <td>2600.120117</td>\n",
       "      <td>-1.000000</td>\n",
       "      <td>0.000000</td>\n",
       "      <td>0.000000</td>\n",
       "      <td>0.000000</td>\n",
       "      <td>2621.889893</td>\n",
       "      <td>2682.590088</td>\n",
       "      <td>2594.870117</td>\n",
       "      <td>0.000000e+00</td>\n",
       "    </tr>\n",
       "    <tr>\n",
       "      <th>25%</th>\n",
       "      <td>8931.160156</td>\n",
       "      <td>-0.999800</td>\n",
       "      <td>0.113000</td>\n",
       "      <td>0.766000</td>\n",
       "      <td>0.076000</td>\n",
       "      <td>8942.009766</td>\n",
       "      <td>9042.019531</td>\n",
       "      <td>8801.790039</td>\n",
       "      <td>9.400000e+03</td>\n",
       "    </tr>\n",
       "    <tr>\n",
       "      <th>50%</th>\n",
       "      <td>17615.720703</td>\n",
       "      <td>-0.999200</td>\n",
       "      <td>0.128000</td>\n",
       "      <td>0.783000</td>\n",
       "      <td>0.086000</td>\n",
       "      <td>17643.589844</td>\n",
       "      <td>17753.429688</td>\n",
       "      <td>17492.279297</td>\n",
       "      <td>1.400000e+04</td>\n",
       "    </tr>\n",
       "    <tr>\n",
       "      <th>75%</th>\n",
       "      <td>27278.759766</td>\n",
       "      <td>-0.994800</td>\n",
       "      <td>0.142000</td>\n",
       "      <td>0.804000</td>\n",
       "      <td>0.097000</td>\n",
       "      <td>27312.349609</td>\n",
       "      <td>27438.960938</td>\n",
       "      <td>27146.679688</td>\n",
       "      <td>2.080000e+04</td>\n",
       "    </tr>\n",
       "    <tr>\n",
       "      <th>max</th>\n",
       "      <td>47746.218750</td>\n",
       "      <td>1.000000</td>\n",
       "      <td>0.444000</td>\n",
       "      <td>1.000000</td>\n",
       "      <td>0.608000</td>\n",
       "      <td>47789.031250</td>\n",
       "      <td>47807.851562</td>\n",
       "      <td>47361.898438</td>\n",
       "      <td>3.181510e+07</td>\n",
       "    </tr>\n",
       "  </tbody>\n",
       "</table>\n",
       "</div>"
      ],
      "text/plain": [
       "              Close     compound     negative      neutral     positive  \\\n",
       "count   4897.000000  4897.000000  4897.000000  4897.000000  4897.000000   \n",
       "mean   18678.472417    -0.877449     0.126788     0.786598     0.086608   \n",
       "std    11221.527656     0.441503     0.024098     0.032985     0.020849   \n",
       "min     2600.120117    -1.000000     0.000000     0.000000     0.000000   \n",
       "25%     8931.160156    -0.999800     0.113000     0.766000     0.076000   \n",
       "50%    17615.720703    -0.999200     0.128000     0.783000     0.086000   \n",
       "75%    27278.759766    -0.994800     0.142000     0.804000     0.097000   \n",
       "max    47746.218750     1.000000     0.444000     1.000000     0.608000   \n",
       "\n",
       "               Open          High           Low        Volume  \n",
       "count   4897.000000   4897.000000   4897.000000  4.897000e+03  \n",
       "mean   18698.702253  18811.479896  18549.782309  8.065953e+04  \n",
       "std    11238.657732  11277.863824  11169.519229  1.069531e+06  \n",
       "min     2621.889893   2682.590088   2594.870117  0.000000e+00  \n",
       "25%     8942.009766   9042.019531   8801.790039  9.400000e+03  \n",
       "50%    17643.589844  17753.429688  17492.279297  1.400000e+04  \n",
       "75%    27312.349609  27438.960938  27146.679688  2.080000e+04  \n",
       "max    47789.031250  47807.851562  47361.898438  3.181510e+07  "
      ]
     },
     "execution_count": 18,
     "metadata": {},
     "output_type": "execute_result"
    }
   ],
   "source": [
    "stock_data.describe(include='all')"
   ]
  },
  {
   "cell_type": "code",
   "execution_count": 19,
   "metadata": {},
   "outputs": [
    {
     "name": "stdout",
     "output_type": "stream",
     "text": [
      "<class 'pandas.core.frame.DataFrame'>\n",
      "DatetimeIndex: 4897 entries, 2001-01-02 to 2020-12-30\n",
      "Data columns (total 9 columns):\n",
      " #   Column    Non-Null Count  Dtype  \n",
      "---  ------    --------------  -----  \n",
      " 0   Close     4897 non-null   float64\n",
      " 1   compound  4897 non-null   float64\n",
      " 2   negative  4897 non-null   float64\n",
      " 3   neutral   4897 non-null   float64\n",
      " 4   positive  4897 non-null   float64\n",
      " 5   Open      4897 non-null   float64\n",
      " 6   High      4897 non-null   float64\n",
      " 7   Low       4897 non-null   float64\n",
      " 8   Volume    4897 non-null   float64\n",
      "dtypes: float64(9)\n",
      "memory usage: 382.6 KB\n"
     ]
    }
   ],
   "source": [
    "stock_data.info()"
   ]
  },
  {
   "cell_type": "markdown",
   "metadata": {},
   "source": [
    "## Stock Data Analysis"
   ]
  },
  {
   "cell_type": "code",
   "execution_count": 20,
   "metadata": {},
   "outputs": [
    {
     "data": {
      "text/plain": [
       "Text(0, 0.5, 'Close Price (INR)')"
      ]
     },
     "execution_count": 20,
     "metadata": {},
     "output_type": "execute_result"
    },
    {
     "data": {
      "image/png": "[encoded data removed]",
      "text/plain": [
       "<Figure size 1080x720 with 1 Axes>"
      ]
     },
     "metadata": {
      "needs_background": "light"
     },
     "output_type": "display_data"
    }
   ],
   "source": [
    "import matplotlib.pyplot as plt\n",
    "plt.figure(figsize=(15,10))\n",
    "\n",
    "stock_data['Close'].plot()\n",
    "\n",
    "\n",
    "plt.title(\"Close Price\")\n",
    "plt.xlabel('Date')\n",
    "plt.ylabel('Close Price (INR)')"
   ]
  },
  {
   "cell_type": "markdown",
   "metadata": {},
   "source": [
    "Calculating 7 day rolling mean"
   ]
  },
  {
   "cell_type": "code",
   "execution_count": 21,
   "metadata": {},
   "outputs": [
    {
     "data": {
      "text/html": [
       "<div>\n",
       "<style scoped>\n",
       "    .dataframe tbody tr th:only-of-type {\n",
       "        vertical-align: middle;\n",
       "    }\n",
       "\n",
       "    .dataframe tbody tr th {\n",
       "        vertical-align: top;\n",
       "    }\n",
       "\n",
       "    .dataframe thead th {\n",
       "        text-align: right;\n",
       "    }\n",
       "</style>\n",
       "<table border=\"1\" class=\"dataframe\">\n",
       "  <thead>\n",
       "    <tr style=\"text-align: right;\">\n",
       "      <th></th>\n",
       "      <th>Close</th>\n",
       "      <th>compound</th>\n",
       "      <th>negative</th>\n",
       "      <th>neutral</th>\n",
       "      <th>positive</th>\n",
       "      <th>Open</th>\n",
       "      <th>High</th>\n",
       "      <th>Low</th>\n",
       "      <th>Volume</th>\n",
       "    </tr>\n",
       "  </thead>\n",
       "  <tbody>\n",
       "    <tr>\n",
       "      <th>2001-01-02</th>\n",
       "      <td>NaN</td>\n",
       "      <td>NaN</td>\n",
       "      <td>NaN</td>\n",
       "      <td>NaN</td>\n",
       "      <td>NaN</td>\n",
       "      <td>NaN</td>\n",
       "      <td>NaN</td>\n",
       "      <td>NaN</td>\n",
       "      <td>NaN</td>\n",
       "    </tr>\n",
       "    <tr>\n",
       "      <th>2001-01-03</th>\n",
       "      <td>NaN</td>\n",
       "      <td>NaN</td>\n",
       "      <td>NaN</td>\n",
       "      <td>NaN</td>\n",
       "      <td>NaN</td>\n",
       "      <td>NaN</td>\n",
       "      <td>NaN</td>\n",
       "      <td>NaN</td>\n",
       "      <td>NaN</td>\n",
       "    </tr>\n",
       "    <tr>\n",
       "      <th>2001-01-04</th>\n",
       "      <td>NaN</td>\n",
       "      <td>NaN</td>\n",
       "      <td>NaN</td>\n",
       "      <td>NaN</td>\n",
       "      <td>NaN</td>\n",
       "      <td>NaN</td>\n",
       "      <td>NaN</td>\n",
       "      <td>NaN</td>\n",
       "      <td>NaN</td>\n",
       "    </tr>\n",
       "    <tr>\n",
       "      <th>2001-01-05</th>\n",
       "      <td>NaN</td>\n",
       "      <td>NaN</td>\n",
       "      <td>NaN</td>\n",
       "      <td>NaN</td>\n",
       "      <td>NaN</td>\n",
       "      <td>NaN</td>\n",
       "      <td>NaN</td>\n",
       "      <td>NaN</td>\n",
       "      <td>NaN</td>\n",
       "    </tr>\n",
       "    <tr>\n",
       "      <th>2001-01-08</th>\n",
       "      <td>NaN</td>\n",
       "      <td>NaN</td>\n",
       "      <td>NaN</td>\n",
       "      <td>NaN</td>\n",
       "      <td>NaN</td>\n",
       "      <td>NaN</td>\n",
       "      <td>NaN</td>\n",
       "      <td>NaN</td>\n",
       "      <td>NaN</td>\n",
       "    </tr>\n",
       "    <tr>\n",
       "      <th>2001-01-09</th>\n",
       "      <td>NaN</td>\n",
       "      <td>NaN</td>\n",
       "      <td>NaN</td>\n",
       "      <td>NaN</td>\n",
       "      <td>NaN</td>\n",
       "      <td>NaN</td>\n",
       "      <td>NaN</td>\n",
       "      <td>NaN</td>\n",
       "      <td>NaN</td>\n",
       "    </tr>\n",
       "    <tr>\n",
       "      <th>2001-01-10</th>\n",
       "      <td>4095.911447</td>\n",
       "      <td>-0.175914</td>\n",
       "      <td>0.121571</td>\n",
       "      <td>0.810143</td>\n",
       "      <td>0.068000</td>\n",
       "      <td>4094.170027</td>\n",
       "      <td>4143.089983</td>\n",
       "      <td>4052.832799</td>\n",
       "      <td>0.0</td>\n",
       "    </tr>\n",
       "    <tr>\n",
       "      <th>2001-01-23</th>\n",
       "      <td>4135.598598</td>\n",
       "      <td>0.094314</td>\n",
       "      <td>0.109714</td>\n",
       "      <td>0.818286</td>\n",
       "      <td>0.071714</td>\n",
       "      <td>4140.542899</td>\n",
       "      <td>4184.972831</td>\n",
       "      <td>4101.904227</td>\n",
       "      <td>0.0</td>\n",
       "    </tr>\n",
       "    <tr>\n",
       "      <th>2001-01-24</th>\n",
       "      <td>4173.655727</td>\n",
       "      <td>-0.125129</td>\n",
       "      <td>0.111429</td>\n",
       "      <td>0.825000</td>\n",
       "      <td>0.063429</td>\n",
       "      <td>4189.532854</td>\n",
       "      <td>4223.794294</td>\n",
       "      <td>4147.351353</td>\n",
       "      <td>0.0</td>\n",
       "    </tr>\n",
       "    <tr>\n",
       "      <th>2001-01-25</th>\n",
       "      <td>4204.348598</td>\n",
       "      <td>-0.360643</td>\n",
       "      <td>0.119857</td>\n",
       "      <td>0.817429</td>\n",
       "      <td>0.062429</td>\n",
       "      <td>4210.514230</td>\n",
       "      <td>4246.702846</td>\n",
       "      <td>4170.801409</td>\n",
       "      <td>0.0</td>\n",
       "    </tr>\n",
       "    <tr>\n",
       "      <th>2001-01-29</th>\n",
       "      <td>4211.611433</td>\n",
       "      <td>-0.354300</td>\n",
       "      <td>0.110857</td>\n",
       "      <td>0.829571</td>\n",
       "      <td>0.059143</td>\n",
       "      <td>4216.588518</td>\n",
       "      <td>4256.381417</td>\n",
       "      <td>4177.017090</td>\n",
       "      <td>0.0</td>\n",
       "    </tr>\n",
       "    <tr>\n",
       "      <th>2001-01-30</th>\n",
       "      <td>4247.555699</td>\n",
       "      <td>-0.339186</td>\n",
       "      <td>0.110571</td>\n",
       "      <td>0.822857</td>\n",
       "      <td>0.066143</td>\n",
       "      <td>4231.538574</td>\n",
       "      <td>4280.167132</td>\n",
       "      <td>4199.192801</td>\n",
       "      <td>0.0</td>\n",
       "    </tr>\n",
       "    <tr>\n",
       "      <th>2001-01-31</th>\n",
       "      <td>4276.328578</td>\n",
       "      <td>-0.282500</td>\n",
       "      <td>0.107000</td>\n",
       "      <td>0.825857</td>\n",
       "      <td>0.066857</td>\n",
       "      <td>4267.658552</td>\n",
       "      <td>4314.808594</td>\n",
       "      <td>4230.860003</td>\n",
       "      <td>0.0</td>\n",
       "    </tr>\n",
       "    <tr>\n",
       "      <th>2001-02-01</th>\n",
       "      <td>4310.395717</td>\n",
       "      <td>-0.319400</td>\n",
       "      <td>0.089571</td>\n",
       "      <td>0.833857</td>\n",
       "      <td>0.076286</td>\n",
       "      <td>4289.308524</td>\n",
       "      <td>4343.312919</td>\n",
       "      <td>4258.678571</td>\n",
       "      <td>0.0</td>\n",
       "    </tr>\n",
       "    <tr>\n",
       "      <th>2001-02-02</th>\n",
       "      <td>4318.334263</td>\n",
       "      <td>-0.313714</td>\n",
       "      <td>0.094143</td>\n",
       "      <td>0.811000</td>\n",
       "      <td>0.094571</td>\n",
       "      <td>4289.755650</td>\n",
       "      <td>4350.691476</td>\n",
       "      <td>4259.834263</td>\n",
       "      <td>0.0</td>\n",
       "    </tr>\n",
       "    <tr>\n",
       "      <th>2001-02-05</th>\n",
       "      <td>4324.627162</td>\n",
       "      <td>-0.109343</td>\n",
       "      <td>0.097286</td>\n",
       "      <td>0.793286</td>\n",
       "      <td>0.109143</td>\n",
       "      <td>4292.185686</td>\n",
       "      <td>4358.945731</td>\n",
       "      <td>4265.807129</td>\n",
       "      <td>0.0</td>\n",
       "    </tr>\n",
       "    <tr>\n",
       "      <th>2001-02-06</th>\n",
       "      <td>4331.065709</td>\n",
       "      <td>0.140486</td>\n",
       "      <td>0.087000</td>\n",
       "      <td>0.799286</td>\n",
       "      <td>0.113571</td>\n",
       "      <td>4301.385742</td>\n",
       "      <td>4367.994280</td>\n",
       "      <td>4279.554269</td>\n",
       "      <td>0.0</td>\n",
       "    </tr>\n",
       "    <tr>\n",
       "      <th>2001-02-07</th>\n",
       "      <td>4342.260045</td>\n",
       "      <td>0.121786</td>\n",
       "      <td>0.089714</td>\n",
       "      <td>0.797000</td>\n",
       "      <td>0.113286</td>\n",
       "      <td>4332.537179</td>\n",
       "      <td>4384.631487</td>\n",
       "      <td>4300.185686</td>\n",
       "      <td>0.0</td>\n",
       "    </tr>\n",
       "    <tr>\n",
       "      <th>2001-02-08</th>\n",
       "      <td>4343.567174</td>\n",
       "      <td>0.371843</td>\n",
       "      <td>0.079571</td>\n",
       "      <td>0.799571</td>\n",
       "      <td>0.120857</td>\n",
       "      <td>4336.031459</td>\n",
       "      <td>4386.721470</td>\n",
       "      <td>4305.059989</td>\n",
       "      <td>0.0</td>\n",
       "    </tr>\n",
       "    <tr>\n",
       "      <th>2001-02-09</th>\n",
       "      <td>4353.654297</td>\n",
       "      <td>0.589529</td>\n",
       "      <td>0.075714</td>\n",
       "      <td>0.790143</td>\n",
       "      <td>0.134143</td>\n",
       "      <td>4340.011440</td>\n",
       "      <td>4390.600028</td>\n",
       "      <td>4314.389997</td>\n",
       "      <td>0.0</td>\n",
       "    </tr>\n",
       "  </tbody>\n",
       "</table>\n",
       "</div>"
      ],
      "text/plain": [
       "                  Close  compound  negative   neutral  positive         Open  \\\n",
       "2001-01-02          NaN       NaN       NaN       NaN       NaN          NaN   \n",
       "2001-01-03          NaN       NaN       NaN       NaN       NaN          NaN   \n",
       "2001-01-04          NaN       NaN       NaN       NaN       NaN          NaN   \n",
       "2001-01-05          NaN       NaN       NaN       NaN       NaN          NaN   \n",
       "2001-01-08          NaN       NaN       NaN       NaN       NaN          NaN   \n",
       "2001-01-09          NaN       NaN       NaN       NaN       NaN          NaN   \n",
       "2001-01-10  4095.911447 -0.175914  0.121571  0.810143  0.068000  4094.170027   \n",
       "2001-01-23  4135.598598  0.094314  0.109714  0.818286  0.071714  4140.542899   \n",
       "2001-01-24  4173.655727 -0.125129  0.111429  0.825000  0.063429  4189.532854   \n",
       "2001-01-25  4204.348598 -0.360643  0.119857  0.817429  0.062429  4210.514230   \n",
       "2001-01-29  4211.611433 -0.354300  0.110857  0.829571  0.059143  4216.588518   \n",
       "2001-01-30  4247.555699 -0.339186  0.110571  0.822857  0.066143  4231.538574   \n",
       "2001-01-31  4276.328578 -0.282500  0.107000  0.825857  0.066857  4267.658552   \n",
       "2001-02-01  4310.395717 -0.319400  0.089571  0.833857  0.076286  4289.308524   \n",
       "2001-02-02  4318.334263 -0.313714  0.094143  0.811000  0.094571  4289.755650   \n",
       "2001-02-05  4324.627162 -0.109343  0.097286  0.793286  0.109143  4292.185686   \n",
       "2001-02-06  4331.065709  0.140486  0.087000  0.799286  0.113571  4301.385742   \n",
       "2001-02-07  4342.260045  0.121786  0.089714  0.797000  0.113286  4332.537179   \n",
       "2001-02-08  4343.567174  0.371843  0.079571  0.799571  0.120857  4336.031459   \n",
       "2001-02-09  4353.654297  0.589529  0.075714  0.790143  0.134143  4340.011440   \n",
       "\n",
       "                   High          Low  Volume  \n",
       "2001-01-02          NaN          NaN     NaN  \n",
       "2001-01-03          NaN          NaN     NaN  \n",
       "2001-01-04          NaN          NaN     NaN  \n",
       "2001-01-05          NaN          NaN     NaN  \n",
       "2001-01-08          NaN          NaN     NaN  \n",
       "2001-01-09          NaN          NaN     NaN  \n",
       "2001-01-10  4143.089983  4052.832799     0.0  \n",
       "2001-01-23  4184.972831  4101.904227     0.0  \n",
       "2001-01-24  4223.794294  4147.351353     0.0  \n",
       "2001-01-25  4246.702846  4170.801409     0.0  \n",
       "2001-01-29  4256.381417  4177.017090     0.0  \n",
       "2001-01-30  4280.167132  4199.192801     0.0  \n",
       "2001-01-31  4314.808594  4230.860003     0.0  \n",
       "2001-02-01  4343.312919  4258.678571     0.0  \n",
       "2001-02-02  4350.691476  4259.834263     0.0  \n",
       "2001-02-05  4358.945731  4265.807129     0.0  \n",
       "2001-02-06  4367.994280  4279.554269     0.0  \n",
       "2001-02-07  4384.631487  4300.185686     0.0  \n",
       "2001-02-08  4386.721470  4305.059989     0.0  \n",
       "2001-02-09  4390.600028  4314.389997     0.0  "
      ]
     },
     "execution_count": 21,
     "metadata": {},
     "output_type": "execute_result"
    }
   ],
   "source": [
    "stock_data.rolling(7).mean().head(20)"
   ]
  },
  {
   "cell_type": "code",
   "execution_count": 22,
   "metadata": {},
   "outputs": [
    {
     "data": {
      "text/plain": [
       "<AxesSubplot:>"
      ]
     },
     "execution_count": 22,
     "metadata": {},
     "output_type": "execute_result"
    },
    {
     "data": {
      "image/png": "[encoded data removed]",
      "text/plain": [
       "<Figure size 1080x720 with 1 Axes>"
      ]
     },
     "metadata": {
      "needs_background": "light"
     },
     "output_type": "display_data"
    }
   ],
   "source": [
    "# setting figure size\n",
    "plt.figure(figsize=(15,10))\n",
    "\n",
    "# plotting the close price and a 30-day rolling mean of close price\n",
    "stock_data['Close'].plot()\n",
    "stock_data.rolling(window=30).mean()['Close'].plot()"
   ]
  },
  {
   "cell_type": "markdown",
   "metadata": {},
   "source": [
    "## Preparing Data For Modelling"
   ]
  },
  {
   "cell_type": "code",
   "execution_count": 23,
   "metadata": {},
   "outputs": [
    {
     "name": "stdout",
     "output_type": "stream",
     "text": [
      "Number of records in Training Data: 3916\n",
      "Number of records in Test Data: 981\n"
     ]
    }
   ],
   "source": [
    "# calculating data_to_use\n",
    "percentage_of_data = 1.0\n",
    "data_to_use = int(percentage_of_data*(len(stock_data)-1))\n",
    "\n",
    "# using 80% of data for training\n",
    "train_end = int(data_to_use*0.8)\n",
    "total_data = len(stock_data)\n",
    "start = total_data - data_to_use\n",
    "\n",
    "# printing number of records in the training and test datasets\n",
    "print(\"Number of records in Training Data:\", train_end)\n",
    "print(\"Number of records in Test Data:\", total_data - train_end)"
   ]
  },
  {
   "cell_type": "code",
   "execution_count": 24,
   "metadata": {},
   "outputs": [
    {
     "name": "stdout",
     "output_type": "stream",
     "text": [
      "Close Price:\n"
     ]
    },
    {
     "data": {
      "text/plain": [
       "2001-01-03     4060.020020\n",
       "2001-01-04     4115.370117\n",
       "2001-01-05     4183.729980\n",
       "2001-01-08     4120.430176\n",
       "2001-01-09     4125.310059\n",
       "                  ...     \n",
       "2020-12-23    46444.179688\n",
       "2020-12-24    46973.539062\n",
       "2020-12-28    47353.750000\n",
       "2020-12-29    47613.078125\n",
       "2020-12-30    47746.218750\n",
       "Name: Close, Length: 4896, dtype: float64"
      ]
     },
     "execution_count": 24,
     "metadata": {},
     "output_type": "execute_result"
    }
   ],
   "source": [
    "# predicting one step ahead\n",
    "steps_to_predict = 1\n",
    "\n",
    "\n",
    "close_price = stock_data.iloc[start:total_data,0] #close\n",
    "compound = stock_data.iloc[start:total_data,1] #compound\n",
    "negative = stock_data.iloc[start:total_data,2] #neg\n",
    "neutral = stock_data.iloc[start:total_data,3] #neu\n",
    "positive = stock_data.iloc[start:total_data,4] #pos\n",
    "open_price = stock_data.iloc[start:total_data,5] #open\n",
    "high = stock_data.iloc[start:total_data,6] #high\n",
    "low = stock_data.iloc[start:total_data,7] #low\n",
    "volume = stock_data.iloc[start:total_data,8] #volume\n",
    "\n",
    "# printing close price\n",
    "print(\"Close Price:\")\n",
    "close_price"
   ]
  },
  {
   "cell_type": "code",
   "execution_count": 25,
   "metadata": {},
   "outputs": [
    {
     "data": {
      "text/html": [
       "<div>\n",
       "<style scoped>\n",
       "    .dataframe tbody tr th:only-of-type {\n",
       "        vertical-align: middle;\n",
       "    }\n",
       "\n",
       "    .dataframe tbody tr th {\n",
       "        vertical-align: top;\n",
       "    }\n",
       "\n",
       "    .dataframe thead th {\n",
       "        text-align: right;\n",
       "    }\n",
       "</style>\n",
       "<table border=\"1\" class=\"dataframe\">\n",
       "  <thead>\n",
       "    <tr style=\"text-align: right;\">\n",
       "      <th></th>\n",
       "      <th>close_price</th>\n",
       "      <th>close_price_shifted</th>\n",
       "      <th>compound</th>\n",
       "      <th>compound_shifted</th>\n",
       "      <th>volume</th>\n",
       "      <th>open_price</th>\n",
       "      <th>high</th>\n",
       "      <th>low</th>\n",
       "    </tr>\n",
       "  </thead>\n",
       "  <tbody>\n",
       "    <tr>\n",
       "      <th>2001-01-03</th>\n",
       "      <td>4060.020020</td>\n",
       "      <td>4115.370117</td>\n",
       "      <td>0.6322</td>\n",
       "      <td>0.6648</td>\n",
       "      <td>0.0</td>\n",
       "      <td>3977.580078</td>\n",
       "      <td>4067.659912</td>\n",
       "      <td>3977.580078</td>\n",
       "    </tr>\n",
       "    <tr>\n",
       "      <th>2001-01-04</th>\n",
       "      <td>4115.370117</td>\n",
       "      <td>4183.729980</td>\n",
       "      <td>0.6648</td>\n",
       "      <td>0.9253</td>\n",
       "      <td>0.0</td>\n",
       "      <td>4180.970215</td>\n",
       "      <td>4180.970215</td>\n",
       "      <td>4109.549805</td>\n",
       "    </tr>\n",
       "    <tr>\n",
       "      <th>2001-01-05</th>\n",
       "      <td>4183.729980</td>\n",
       "      <td>4120.430176</td>\n",
       "      <td>0.9253</td>\n",
       "      <td>-0.9638</td>\n",
       "      <td>0.0</td>\n",
       "      <td>4116.339844</td>\n",
       "      <td>4195.009766</td>\n",
       "      <td>4115.350098</td>\n",
       "    </tr>\n",
       "    <tr>\n",
       "      <th>2001-01-08</th>\n",
       "      <td>4120.430176</td>\n",
       "      <td>4125.310059</td>\n",
       "      <td>-0.9638</td>\n",
       "      <td>-0.9559</td>\n",
       "      <td>0.0</td>\n",
       "      <td>4164.759766</td>\n",
       "      <td>4206.720215</td>\n",
       "      <td>4101.529785</td>\n",
       "    </tr>\n",
       "    <tr>\n",
       "      <th>2001-01-09</th>\n",
       "      <td>4125.310059</td>\n",
       "      <td>4047.639893</td>\n",
       "      <td>-0.9559</td>\n",
       "      <td>-0.5719</td>\n",
       "      <td>0.0</td>\n",
       "      <td>4114.740234</td>\n",
       "      <td>4166.839844</td>\n",
       "      <td>4101.009766</td>\n",
       "    </tr>\n",
       "    <tr>\n",
       "      <th>2001-01-10</th>\n",
       "      <td>4047.639893</td>\n",
       "      <td>4296.689941</td>\n",
       "      <td>-0.5719</td>\n",
       "      <td>0.9295</td>\n",
       "      <td>0.0</td>\n",
       "      <td>4151.580078</td>\n",
       "      <td>4155.859863</td>\n",
       "      <td>4035.439941</td>\n",
       "    </tr>\n",
       "    <tr>\n",
       "      <th>2001-01-23</th>\n",
       "      <td>4296.689941</td>\n",
       "      <td>4326.419922</td>\n",
       "      <td>0.9295</td>\n",
       "      <td>-0.9039</td>\n",
       "      <td>0.0</td>\n",
       "      <td>4277.830078</td>\n",
       "      <td>4321.750000</td>\n",
       "      <td>4272.870117</td>\n",
       "    </tr>\n",
       "    <tr>\n",
       "      <th>2001-01-24</th>\n",
       "      <td>4326.419922</td>\n",
       "      <td>4330.220215</td>\n",
       "      <td>-0.9039</td>\n",
       "      <td>-0.9838</td>\n",
       "      <td>0.0</td>\n",
       "      <td>4320.509766</td>\n",
       "      <td>4339.410156</td>\n",
       "      <td>4295.709961</td>\n",
       "    </tr>\n",
       "    <tr>\n",
       "      <th>2001-01-25</th>\n",
       "      <td>4330.220215</td>\n",
       "      <td>4234.569824</td>\n",
       "      <td>-0.9838</td>\n",
       "      <td>0.9697</td>\n",
       "      <td>0.0</td>\n",
       "      <td>4327.839844</td>\n",
       "      <td>4341.330078</td>\n",
       "      <td>4273.700195</td>\n",
       "    </tr>\n",
       "    <tr>\n",
       "      <th>2001-01-29</th>\n",
       "      <td>4234.569824</td>\n",
       "      <td>4372.040039</td>\n",
       "      <td>0.9697</td>\n",
       "      <td>-0.8580</td>\n",
       "      <td>0.0</td>\n",
       "      <td>4158.859863</td>\n",
       "      <td>4262.759766</td>\n",
       "      <td>4158.859863</td>\n",
       "    </tr>\n",
       "  </tbody>\n",
       "</table>\n",
       "</div>"
      ],
      "text/plain": [
       "            close_price  close_price_shifted  compound  compound_shifted  \\\n",
       "2001-01-03  4060.020020          4115.370117    0.6322            0.6648   \n",
       "2001-01-04  4115.370117          4183.729980    0.6648            0.9253   \n",
       "2001-01-05  4183.729980          4120.430176    0.9253           -0.9638   \n",
       "2001-01-08  4120.430176          4125.310059   -0.9638           -0.9559   \n",
       "2001-01-09  4125.310059          4047.639893   -0.9559           -0.5719   \n",
       "2001-01-10  4047.639893          4296.689941   -0.5719            0.9295   \n",
       "2001-01-23  4296.689941          4326.419922    0.9295           -0.9039   \n",
       "2001-01-24  4326.419922          4330.220215   -0.9039           -0.9838   \n",
       "2001-01-25  4330.220215          4234.569824   -0.9838            0.9697   \n",
       "2001-01-29  4234.569824          4372.040039    0.9697           -0.8580   \n",
       "\n",
       "            volume   open_price         high          low  \n",
       "2001-01-03     0.0  3977.580078  4067.659912  3977.580078  \n",
       "2001-01-04     0.0  4180.970215  4180.970215  4109.549805  \n",
       "2001-01-05     0.0  4116.339844  4195.009766  4115.350098  \n",
       "2001-01-08     0.0  4164.759766  4206.720215  4101.529785  \n",
       "2001-01-09     0.0  4114.740234  4166.839844  4101.009766  \n",
       "2001-01-10     0.0  4151.580078  4155.859863  4035.439941  \n",
       "2001-01-23     0.0  4277.830078  4321.750000  4272.870117  \n",
       "2001-01-24     0.0  4320.509766  4339.410156  4295.709961  \n",
       "2001-01-25     0.0  4327.839844  4341.330078  4273.700195  \n",
       "2001-01-29     0.0  4158.859863  4262.759766  4158.859863  "
      ]
     },
     "execution_count": 25,
     "metadata": {},
     "output_type": "execute_result"
    }
   ],
   "source": [
    "# shifting next day close\n",
    "close_price_shifted = close_price.shift(-1) \n",
    "\n",
    "# shifting next day compound\n",
    "compound_shifted = compound.shift(-1) \n",
    "\n",
    "# concatenating the captured training data into a dataframe\n",
    "data = pd.concat([close_price, close_price_shifted, compound, compound_shifted, volume, open_price, high, low], axis=1)\n",
    "\n",
    "# setting column names of the revised stock data\n",
    "data.columns = ['close_price', 'close_price_shifted', 'compound', 'compound_shifted','volume', 'open_price', 'high', 'low']\n",
    "\n",
    "# dropping nulls\n",
    "data = data.dropna()    \n",
    "data.head(10)"
   ]
  },
  {
   "cell_type": "code",
   "execution_count": 26,
   "metadata": {},
   "outputs": [
    {
     "data": {
      "text/plain": [
       "2001-01-03     4115.370117\n",
       "2001-01-04     4183.729980\n",
       "2001-01-05     4120.430176\n",
       "2001-01-08     4125.310059\n",
       "2001-01-09     4047.639893\n",
       "                  ...     \n",
       "2020-12-22    46444.179688\n",
       "2020-12-23    46973.539062\n",
       "2020-12-24    47353.750000\n",
       "2020-12-28    47613.078125\n",
       "2020-12-29    47746.218750\n",
       "Name: close_price_shifted, Length: 4895, dtype: float64"
      ]
     },
     "execution_count": 26,
     "metadata": {},
     "output_type": "execute_result"
    }
   ],
   "source": [
    "#close price shifted set as the target var\n",
    "y = data['close_price_shifted']\n",
    "y"
   ]
  },
  {
   "cell_type": "code",
   "execution_count": 27,
   "metadata": {},
   "outputs": [
    {
     "data": {
      "text/html": [
       "<div>\n",
       "<style scoped>\n",
       "    .dataframe tbody tr th:only-of-type {\n",
       "        vertical-align: middle;\n",
       "    }\n",
       "\n",
       "    .dataframe tbody tr th {\n",
       "        vertical-align: top;\n",
       "    }\n",
       "\n",
       "    .dataframe thead th {\n",
       "        text-align: right;\n",
       "    }\n",
       "</style>\n",
       "<table border=\"1\" class=\"dataframe\">\n",
       "  <thead>\n",
       "    <tr style=\"text-align: right;\">\n",
       "      <th></th>\n",
       "      <th>close_price</th>\n",
       "      <th>compound</th>\n",
       "      <th>compound_shifted</th>\n",
       "      <th>volume</th>\n",
       "      <th>open_price</th>\n",
       "      <th>high</th>\n",
       "      <th>low</th>\n",
       "    </tr>\n",
       "  </thead>\n",
       "  <tbody>\n",
       "    <tr>\n",
       "      <th>2001-01-03</th>\n",
       "      <td>4060.020020</td>\n",
       "      <td>0.6322</td>\n",
       "      <td>0.6648</td>\n",
       "      <td>0.0</td>\n",
       "      <td>3977.580078</td>\n",
       "      <td>4067.659912</td>\n",
       "      <td>3977.580078</td>\n",
       "    </tr>\n",
       "    <tr>\n",
       "      <th>2001-01-04</th>\n",
       "      <td>4115.370117</td>\n",
       "      <td>0.6648</td>\n",
       "      <td>0.9253</td>\n",
       "      <td>0.0</td>\n",
       "      <td>4180.970215</td>\n",
       "      <td>4180.970215</td>\n",
       "      <td>4109.549805</td>\n",
       "    </tr>\n",
       "    <tr>\n",
       "      <th>2001-01-05</th>\n",
       "      <td>4183.729980</td>\n",
       "      <td>0.9253</td>\n",
       "      <td>-0.9638</td>\n",
       "      <td>0.0</td>\n",
       "      <td>4116.339844</td>\n",
       "      <td>4195.009766</td>\n",
       "      <td>4115.350098</td>\n",
       "    </tr>\n",
       "    <tr>\n",
       "      <th>2001-01-08</th>\n",
       "      <td>4120.430176</td>\n",
       "      <td>-0.9638</td>\n",
       "      <td>-0.9559</td>\n",
       "      <td>0.0</td>\n",
       "      <td>4164.759766</td>\n",
       "      <td>4206.720215</td>\n",
       "      <td>4101.529785</td>\n",
       "    </tr>\n",
       "    <tr>\n",
       "      <th>2001-01-09</th>\n",
       "      <td>4125.310059</td>\n",
       "      <td>-0.9559</td>\n",
       "      <td>-0.5719</td>\n",
       "      <td>0.0</td>\n",
       "      <td>4114.740234</td>\n",
       "      <td>4166.839844</td>\n",
       "      <td>4101.009766</td>\n",
       "    </tr>\n",
       "    <tr>\n",
       "      <th>...</th>\n",
       "      <td>...</td>\n",
       "      <td>...</td>\n",
       "      <td>...</td>\n",
       "      <td>...</td>\n",
       "      <td>...</td>\n",
       "      <td>...</td>\n",
       "      <td>...</td>\n",
       "    </tr>\n",
       "    <tr>\n",
       "      <th>2020-12-22</th>\n",
       "      <td>46006.691406</td>\n",
       "      <td>-0.9999</td>\n",
       "      <td>-0.9996</td>\n",
       "      <td>25100.0</td>\n",
       "      <td>45529.609375</td>\n",
       "      <td>46080.179688</td>\n",
       "      <td>45112.191406</td>\n",
       "    </tr>\n",
       "    <tr>\n",
       "      <th>2020-12-23</th>\n",
       "      <td>46444.179688</td>\n",
       "      <td>-0.9996</td>\n",
       "      <td>-0.9971</td>\n",
       "      <td>10500.0</td>\n",
       "      <td>46072.300781</td>\n",
       "      <td>46513.320312</td>\n",
       "      <td>45899.101562</td>\n",
       "    </tr>\n",
       "    <tr>\n",
       "      <th>2020-12-24</th>\n",
       "      <td>46973.539062</td>\n",
       "      <td>-0.9971</td>\n",
       "      <td>-0.9997</td>\n",
       "      <td>13700.0</td>\n",
       "      <td>46743.488281</td>\n",
       "      <td>47053.398438</td>\n",
       "      <td>46539.019531</td>\n",
       "    </tr>\n",
       "    <tr>\n",
       "      <th>2020-12-28</th>\n",
       "      <td>47353.750000</td>\n",
       "      <td>-0.9997</td>\n",
       "      <td>-0.9998</td>\n",
       "      <td>9600.0</td>\n",
       "      <td>47153.589844</td>\n",
       "      <td>47406.718750</td>\n",
       "      <td>47148.238281</td>\n",
       "    </tr>\n",
       "    <tr>\n",
       "      <th>2020-12-29</th>\n",
       "      <td>47613.078125</td>\n",
       "      <td>-0.9998</td>\n",
       "      <td>-0.9998</td>\n",
       "      <td>12800.0</td>\n",
       "      <td>47466.621094</td>\n",
       "      <td>47714.550781</td>\n",
       "      <td>47361.898438</td>\n",
       "    </tr>\n",
       "  </tbody>\n",
       "</table>\n",
       "<p>4895 rows × 7 columns</p>\n",
       "</div>"
      ],
      "text/plain": [
       "             close_price  compound  compound_shifted   volume    open_price  \\\n",
       "2001-01-03   4060.020020    0.6322            0.6648      0.0   3977.580078   \n",
       "2001-01-04   4115.370117    0.6648            0.9253      0.0   4180.970215   \n",
       "2001-01-05   4183.729980    0.9253           -0.9638      0.0   4116.339844   \n",
       "2001-01-08   4120.430176   -0.9638           -0.9559      0.0   4164.759766   \n",
       "2001-01-09   4125.310059   -0.9559           -0.5719      0.0   4114.740234   \n",
       "...                  ...       ...               ...      ...           ...   \n",
       "2020-12-22  46006.691406   -0.9999           -0.9996  25100.0  45529.609375   \n",
       "2020-12-23  46444.179688   -0.9996           -0.9971  10500.0  46072.300781   \n",
       "2020-12-24  46973.539062   -0.9971           -0.9997  13700.0  46743.488281   \n",
       "2020-12-28  47353.750000   -0.9997           -0.9998   9600.0  47153.589844   \n",
       "2020-12-29  47613.078125   -0.9998           -0.9998  12800.0  47466.621094   \n",
       "\n",
       "                    high           low  \n",
       "2001-01-03   4067.659912   3977.580078  \n",
       "2001-01-04   4180.970215   4109.549805  \n",
       "2001-01-05   4195.009766   4115.350098  \n",
       "2001-01-08   4206.720215   4101.529785  \n",
       "2001-01-09   4166.839844   4101.009766  \n",
       "...                  ...           ...  \n",
       "2020-12-22  46080.179688  45112.191406  \n",
       "2020-12-23  46513.320312  45899.101562  \n",
       "2020-12-24  47053.398438  46539.019531  \n",
       "2020-12-28  47406.718750  47148.238281  \n",
       "2020-12-29  47714.550781  47361.898438  \n",
       "\n",
       "[4895 rows x 7 columns]"
      ]
     },
     "execution_count": 27,
     "metadata": {},
     "output_type": "execute_result"
    }
   ],
   "source": [
    "# setting the features dataset for prediction  \n",
    "cols = ['close_price', 'compound', 'compound_shifted', 'volume', 'open_price', 'high', 'low']\n",
    "x = data[cols]\n",
    "x"
   ]
  },
  {
   "cell_type": "markdown",
   "metadata": {},
   "source": [
    "### Importing Libraries to Scale the data\n",
    "Lets import the following library that is required for the task:\n",
    "\n",
    "<ul>\n",
    "    <li> <b>MinMaxScaler</b> from <b>sklearn.preprocessing</b> </li>\n",
    "</ul>"
   ]
  },
  {
   "cell_type": "code",
   "execution_count": 28,
   "metadata": {},
   "outputs": [],
   "source": [
    "from sklearn.preprocessing import MinMaxScaler"
   ]
  },
  {
   "cell_type": "code",
   "execution_count": 29,
   "metadata": {},
   "outputs": [
    {
     "data": {
      "text/plain": [
       "(array([[-0.93513424,  0.6322    ,  0.6648    , ..., -0.93953849,\n",
       "         -0.93848503, -0.93822641],\n",
       "        [-0.93267494,  0.6648    ,  0.9253    , ..., -0.93046763,\n",
       "         -0.93345259, -0.93233057],\n",
       "        [-0.9296376 ,  0.9253    , -0.9638    , ..., -0.93335003,\n",
       "         -0.93282905, -0.93207144],\n",
       "        ...,\n",
       "        [ 0.97158422, -0.9971    , -0.9997    , ...,  0.96774949,\n",
       "          0.97063631,  0.96323728],\n",
       "        [ 0.98847762, -0.9997    , -0.9998    , ...,  0.98603933,\n",
       "          0.98632829,  0.99045457],\n",
       "        [ 1.        , -0.9998    , -0.9998    , ...,  1.        ,\n",
       "          1.        ,  1.        ]]),\n",
       " array([[-0.93287349],\n",
       "        [-0.92984511],\n",
       "        [-0.93264933],\n",
       "        ...,\n",
       "        [ 0.98261339],\n",
       "        [ 0.99410179],\n",
       "        [ 1.        ]]))"
      ]
     },
     "execution_count": 29,
     "metadata": {},
     "output_type": "execute_result"
    }
   ],
   "source": [
    "# scaling the feature dataset\n",
    "scaler_x = MinMaxScaler(feature_range=(-1, 1))\n",
    "x = np.array(x).reshape((len(x) ,len(cols)))\n",
    "x = scaler_x.fit_transform(x)\n",
    "\n",
    "# scaling the target variable\n",
    "scaler_y = MinMaxScaler(feature_range=(-1, 1))\n",
    "y = np.array (y).reshape ((len( y), 1))\n",
    "y = scaler_y.fit_transform (y)\n",
    "\n",
    "# displaying the scaled feature dataset and the target variable\n",
    "x, y"
   ]
  },
  {
   "cell_type": "markdown",
   "metadata": {},
   "source": [
    "## Dividing data for training and test datasets"
   ]
  },
  {
   "cell_type": "code",
   "execution_count": 30,
   "metadata": {},
   "outputs": [
    {
     "name": "stdout",
     "output_type": "stream",
     "text": [
      "Number of rows and columns in Training set X: (3916, 7) and y: (3916, 1)\n",
      "Number of rows and columns in Test set X: (978, 7) and y: (978, 1)\n"
     ]
    }
   ],
   "source": [
    "# preparing training and test dataset\n",
    "X_train = x[0 : train_end,]\n",
    "X_test = x[train_end+1 : len(x),]    \n",
    "y_train = y[0 : train_end] \n",
    "y_test = y[train_end+1 : len(y)]  \n",
    "\n",
    "# printing the shape of the training and the test datasets\n",
    "print('Number of rows and columns in Training set X:', X_train.shape, 'and y:', y_train.shape)\n",
    "print('Number of rows and columns in Test set X:', X_test.shape, 'and y:', y_test.shape)"
   ]
  },
  {
   "cell_type": "code",
   "execution_count": 31,
   "metadata": {},
   "outputs": [
    {
     "name": "stdout",
     "output_type": "stream",
     "text": [
      "Shape of Training set X: (3916, 7, 1)\n",
      "Shape of Test set X: (978, 7, 1)\n"
     ]
    }
   ],
   "source": [
    "#reshaping dataset\n",
    "X_train = X_train.reshape(X_train.shape+(1,))\n",
    "X_test = X_test.reshape(X_test.shape+(1,))\n",
    "\n",
    "\n",
    "print('Shape of Training set X:', X_train.shape)\n",
    "print('Shape of Test set X:', X_test.shape)"
   ]
  },
  {
   "cell_type": "markdown",
   "metadata": {},
   "source": [
    "## Creating the Sequential Model"
   ]
  },
  {
   "cell_type": "markdown",
   "metadata": {},
   "source": [
    "### Importing Libraries to Create Sequential Model\n",
    "Lets import the following libraries that are required for the task:\n",
    "\n",
    "<ul>\n",
    "    <li> <b>Sequential</b> from <b>keras.models</b> </li>\n",
    "    <li> <b>Dense, LSTM, Dropout, Dense, Activation</b> from <b>keras.layers</b> </li>\n",
    "</ul>"
   ]
  },
  {
   "cell_type": "code",
   "execution_count": 32,
   "metadata": {},
   "outputs": [],
   "source": [
    "from keras.models import Sequential\n",
    "from keras.layers import Dense, LSTM, Dropout, Dense, Activation"
   ]
  },
  {
   "cell_type": "code",
   "execution_count": 33,
   "metadata": {},
   "outputs": [
    {
     "name": "stdout",
     "output_type": "stream",
     "text": [
      "Model: \"sequential\"\n",
      "_________________________________________________________________\n",
      "Layer (type)                 Output Shape              Param #   \n",
      "=================================================================\n",
      "lstm (LSTM)                  (None, 7, 100)            40800     \n",
      "_________________________________________________________________\n",
      "dropout (Dropout)            (None, 7, 100)            0         \n",
      "_________________________________________________________________\n",
      "lstm_1 (LSTM)                (None, 7, 100)            80400     \n",
      "_________________________________________________________________\n",
      "dropout_1 (Dropout)          (None, 7, 100)            0         \n",
      "_________________________________________________________________\n",
      "lstm_2 (LSTM)                (None, 100)               80400     \n",
      "_________________________________________________________________\n",
      "dropout_2 (Dropout)          (None, 100)               0         \n",
      "_________________________________________________________________\n",
      "dense (Dense)                (None, 1)                 101       \n",
      "=================================================================\n",
      "Total params: 201,701\n",
      "Trainable params: 201,701\n",
      "Non-trainable params: 0\n",
      "_________________________________________________________________\n"
     ]
    }
   ],
   "source": [
    "# seed set to achieve consistent and less random predictions\n",
    "np.random.seed(2016)\n",
    "\n",
    "# setting the architecture for the data model\n",
    "model=Sequential()\n",
    "model.add(LSTM(100,return_sequences=True,activation='tanh',input_shape=(len(cols),1)))\n",
    "model.add(Dropout(0.1))\n",
    "model.add(LSTM(100,return_sequences=True,activation='tanh'))\n",
    "model.add(Dropout(0.1))\n",
    "model.add(LSTM(100,activation='tanh'))\n",
    "model.add(Dropout(0.1))\n",
    "model.add(Dense(1))\n",
    "\n",
    "# printing the model summary\n",
    "model.summary()"
   ]
  },
  {
   "cell_type": "code",
   "execution_count": 34,
   "metadata": {},
   "outputs": [
    {
     "name": "stdout",
     "output_type": "stream",
     "text": [
      "Epoch 1/10\n",
      "392/392 [==============================] - 9s 16ms/step - loss: 0.0694 - val_loss: 0.0259\n",
      "Epoch 2/10\n",
      "392/392 [==============================] - 4s 11ms/step - loss: 0.0033 - val_loss: 0.0099\n",
      "Epoch 3/10\n",
      "392/392 [==============================] - 4s 11ms/step - loss: 0.0016 - val_loss: 8.4326e-04\n",
      "Epoch 4/10\n",
      "392/392 [==============================] - 4s 11ms/step - loss: 0.0016 - val_loss: 5.1881e-04\n",
      "Epoch 5/10\n",
      "392/392 [==============================] - 5s 12ms/step - loss: 0.0013 - val_loss: 2.1216e-04\n",
      "Epoch 6/10\n",
      "392/392 [==============================] - 5s 12ms/step - loss: 0.0013 - val_loss: 1.8871e-04\n",
      "Epoch 7/10\n",
      "392/392 [==============================] - 5s 12ms/step - loss: 0.0010 - val_loss: 2.2700e-04\n",
      "Epoch 8/10\n",
      "392/392 [==============================] - 5s 12ms/step - loss: 0.0012 - val_loss: 4.6251e-04\n",
      "Epoch 9/10\n",
      "392/392 [==============================] - 5s 12ms/step - loss: 0.0010 - val_loss: 2.1219e-04\n",
      "Epoch 10/10\n",
      "392/392 [==============================] - 4s 11ms/step - loss: 9.7486e-04 - val_loss: 2.3026e-04\n"
     ]
    },
    {
     "data": {
      "text/plain": [
       "<tensorflow.python.keras.callbacks.History at 0x187a1e65f98>"
      ]
     },
     "execution_count": 34,
     "metadata": {},
     "output_type": "execute_result"
    }
   ],
   "source": [
    "model.compile(loss='mse' , optimizer='adam')\n",
    "\n",
    "# fitting the model using the training dataset\n",
    "model.fit(X_train, y_train, validation_split=0.2, batch_size=8, epochs=10, verbose=1)"
   ]
  },
  {
   "cell_type": "code",
   "execution_count": 35,
   "metadata": {},
   "outputs": [
    {
     "name": "stdout",
     "output_type": "stream",
     "text": [
      "Model is saved to the disk\n"
     ]
    }
   ],
   "source": [
    "model_json = model.to_json()\n",
    "with open('model.json', 'w') as json_file:\n",
    "    json_file.write(model_json)\n",
    "    \n",
    "model.save_weights('model.h5')\n",
    "print('Model is saved to the disk')"
   ]
  },
  {
   "cell_type": "markdown",
   "metadata": {},
   "source": [
    "## Performing Predictions"
   ]
  },
  {
   "cell_type": "code",
   "execution_count": 36,
   "metadata": {},
   "outputs": [
    {
     "name": "stdout",
     "output_type": "stream",
     "text": [
      "Predictions:\n"
     ]
    },
    {
     "data": {
      "text/plain": [
       "array([[26847.596],\n",
       "       [26758.852],\n",
       "       [26806.443],\n",
       "       [27016.707],\n",
       "       [27173.023]], dtype=float32)"
      ]
     },
     "execution_count": 36,
     "metadata": {},
     "output_type": "execute_result"
    }
   ],
   "source": [
    "predictions = model.predict(X_test)\n",
    "\n",
    "predictions = scaler_y.inverse_transform(np.array(predictions).reshape((len(predictions),1)))\n",
    "\n",
    "print('Predictions:')\n",
    "predictions[0:5]"
   ]
  },
  {
   "cell_type": "markdown",
   "metadata": {},
   "source": [
    "<ul>\n",
    "    <li>Unscaling the test feature dataset: <b>x_test</b> and test y dataset: <b>y_test</b></li>\n",
    "</ul>"
   ]
  },
  {
   "cell_type": "code",
   "execution_count": 37,
   "metadata": {},
   "outputs": [],
   "source": [
    "x_test = scaler_x.inverse_transform(np.array(X_test).reshape((len(X_test), len(cols))))\n",
    "\n",
    "y_train = scaler_y.inverse_transform(np.array(y_train).reshape((len(y_train) , 1)))\n",
    "\n",
    "y_test = scaler_y.inverse_transform(np.array(y_test).reshape((len(y_test), 1)))"
   ]
  },
  {
   "cell_type": "markdown",
   "metadata": {},
   "source": [
    "## Evaluating The Model"
   ]
  },
  {
   "cell_type": "markdown",
   "metadata": {},
   "source": [
    "### Importing Libraries to Evaluate The Model\n",
    "Lets import the following library that is required for the task:\n",
    "\n",
    "<ul>\n",
    "    <li> <b>metrics</b> from <b>sklearn</b> </li>\n",
    "</ul>"
   ]
  },
  {
   "cell_type": "code",
   "execution_count": 38,
   "metadata": {},
   "outputs": [],
   "source": [
    "from sklearn import metrics"
   ]
  },
  {
   "cell_type": "markdown",
   "metadata": {},
   "source": [
    "### Evaluating Model using various Metrics"
   ]
  },
  {
   "cell_type": "markdown",
   "metadata": {},
   "source": [
    "<ul>\n",
    "    <li><b>Train Loss</b> and <b>Test Loss</b></li>\n",
    "</ul>"
   ]
  },
  {
   "cell_type": "code",
   "execution_count": 39,
   "metadata": {},
   "outputs": [
    {
     "name": "stdout",
     "output_type": "stream",
     "text": [
      "3916/3916 [==============================] - 10s 2ms/step - loss: 271668736.0000\n",
      "978/978 [==============================] - 2s 2ms/step - loss: 1288756992.0000\n",
      "Train Loss = 271668736.0\n",
      "Test Loss = 1288756992.0\n"
     ]
    }
   ],
   "source": [
    "# calculating the training mX_trainsquared-error\n",
    "train_loss = model.evaluate(X_train, y_train, batch_size = 1)\n",
    "# calculating the test mean-squared-error\n",
    "\n",
    "test_loss = model.evaluate(X_test, y_test, batch_size = 1)\n",
    "# printing the training and the test mean-squared-errors\n",
    "print('Train Loss =', round(train_loss, 4) )\n",
    "print ('Test Loss =', round(test_loss, 4) )"
   ]
  },
  {
   "cell_type": "markdown",
   "metadata": {},
   "source": [
    "<ul>\n",
    "    <li>Root Mean Square Error </li>\n",
    "</ul>"
   ]
  },
  {
   "cell_type": "code",
   "execution_count": 40,
   "metadata": {},
   "outputs": [
    {
     "name": "stdout",
     "output_type": "stream",
     "text": [
      "Root Mean Square Error: 651.2819\n"
     ]
    }
   ],
   "source": [
    "# calculating root mean squared error\n",
    "root_mean_square_error = np.sqrt(np.mean(np.power((y_test- predictions) , 2) ) )\n",
    "print ('Root Mean Square Error:', round(root_mean_square_error, 4) )"
   ]
  },
  {
   "cell_type": "markdown",
   "metadata": {},
   "source": [
    "<ul>\n",
    "    <li>Root Mean Square Error (sklearn.metrics)</li>\n",
    "</ul>"
   ]
  },
  {
   "cell_type": "code",
   "execution_count": 41,
   "metadata": {},
   "outputs": [
    {
     "name": "stdout",
     "output_type": "stream",
     "text": [
      "Root Mean Square Error (sklearn.metrics): 651.2819\n"
     ]
    }
   ],
   "source": [
    "# calculating root mean squared error using sklearn.metrics package\n",
    "rmse = metrics.mean_squared_error(y_test, predictions)\n",
    "print('Root Mean Square Error (sklearn.metrics):', round(np.sqrt(rmse) , 4))"
   ]
  },
  {
   "cell_type": "markdown",
   "metadata": {},
   "source": [
    "<ul>\n",
    "    <li>Mean Absolute Error (sklearn.metrics)</li>\n",
    "</ul>"
   ]
  },
  {
   "cell_type": "code",
   "execution_count": 42,
   "metadata": {},
   "outputs": [
    {
     "name": "stdout",
     "output_type": "stream",
     "text": [
      "Mean Absolute Error (sklearn.metrics): 19.4883\n"
     ]
    }
   ],
   "source": [
    "mae = metrics.mean_absolute_error(y_test, predictions)\n",
    "print('Mean Absolute Error (sklearn.metrics):', round(np.sqrt(mae) , 4))"
   ]
  },
  {
   "cell_type": "markdown",
   "metadata": {},
   "source": [
    "<ul>\n",
    "    <li>R2 Score (sklearn.metrics)</li>\n",
    "</ul>"
   ]
  },
  {
   "cell_type": "code",
   "execution_count": 43,
   "metadata": {},
   "outputs": [
    {
     "name": "stdout",
     "output_type": "stream",
     "text": [
      "R2 Score (sklearn.metrics): 0.9737834992459826\n"
     ]
    }
   ],
   "source": [
    "r2s = metrics.r2_score(y_test, predictions)\n",
    "print('R2 Score (sklearn.metrics):', r2s)"
   ]
  },
  {
   "cell_type": "markdown",
   "metadata": {},
   "source": [
    "## Plotting the Predicted data against Test data and Saving the Result"
   ]
  },
  {
   "cell_type": "code",
   "execution_count": 44,
   "metadata": {},
   "outputs": [
    {
     "data": {
      "image/png": "[encoded data removed]",
      "text/plain": [
       "<Figure size 1224x720 with 1 Axes>"
      ]
     },
     "metadata": {
      "needs_background": "light"
     },
     "output_type": "display_data"
    }
   ],
   "source": [
    "plt.figure(figsize=(17, 10))\n",
    "\n",
    "plt.plot(predictions, label=\"Predicted Close price\")\n",
    "plt.plot([row[0] for row in y_test], label = \"Testing Close Price\")\n",
    "plt.legend(loc='upper center', bbox_to_anchor=(0.5, -0.05), fancybox=True, shadow=True, ncol=2, prop={'size': 20})\n",
    "plt.savefig('Stock Price Prediction.jpg')\n",
    "plt.show()"
   ]
  },
  {
   "cell_type": "code",
   "execution_count": null,
   "metadata": {},
   "outputs": [],
   "source": []
  },
  {
   "cell_type": "code",
   "execution_count": null,
   "metadata": {},
   "outputs": [],
   "source": []
  }
 ],
 "metadata": {
  "kernelspec": {
   "display_name": "Python 3",
   "language": "python",
   "name": "python3"
  },
  "language_info": {
   "codemirror_mode": {
    "name": "ipython",
    "version": 3
   },
   "file_extension": ".py",
   "mimetype": "text/x-python",
   "name": "python",
   "nbconvert_exporter": "python",
   "pygments_lexer": "ipython3",
   "version": "3.7.3"
  }
 },
 "nbformat": 4,
 "nbformat_minor": 4
}
